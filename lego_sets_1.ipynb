{
 "cells": [
  {
   "cell_type": "code",
   "execution_count": 82,
   "metadata": {},
   "outputs": [],
   "source": [
    "import matplotlib.pyplot as plt\n",
    "%matplotlib inline\n",
    "from sklearn.neighbors import KNeighborsClassifier\n",
    "import pandas as pd\n",
    "import os"
   ]
  },
  {
   "cell_type": "code",
   "execution_count": 83,
   "metadata": {},
   "outputs": [
    {
     "data": {
      "text/html": [
       "<div>\n",
       "<style scoped>\n",
       "    .dataframe tbody tr th:only-of-type {\n",
       "        vertical-align: middle;\n",
       "    }\n",
       "\n",
       "    .dataframe tbody tr th {\n",
       "        vertical-align: top;\n",
       "    }\n",
       "\n",
       "    .dataframe thead th {\n",
       "        text-align: right;\n",
       "    }\n",
       "</style>\n",
       "<table border=\"1\" class=\"dataframe\">\n",
       "  <thead>\n",
       "    <tr style=\"text-align: right;\">\n",
       "      <th></th>\n",
       "      <th>num_reviews</th>\n",
       "      <th>piece_count</th>\n",
       "      <th>play_star_rating</th>\n",
       "      <th>prod_desc</th>\n",
       "      <th>prod_id</th>\n",
       "      <th>review_difficulty</th>\n",
       "      <th>set_name</th>\n",
       "      <th>star_rating</th>\n",
       "      <th>theme_name</th>\n",
       "      <th>val_star_rating</th>\n",
       "      <th>country</th>\n",
       "    </tr>\n",
       "  </thead>\n",
       "  <tbody>\n",
       "    <tr>\n",
       "      <td>0</td>\n",
       "      <td>2.0</td>\n",
       "      <td>277</td>\n",
       "      <td>4.0</td>\n",
       "      <td>Catapult into action and take back the eggs fr...</td>\n",
       "      <td>75823</td>\n",
       "      <td>Average</td>\n",
       "      <td>Bird Island Egg Heist</td>\n",
       "      <td>4.5</td>\n",
       "      <td>Angry Birds™</td>\n",
       "      <td>4.0</td>\n",
       "      <td>US</td>\n",
       "    </tr>\n",
       "    <tr>\n",
       "      <td>1</td>\n",
       "      <td>2.0</td>\n",
       "      <td>168</td>\n",
       "      <td>4.0</td>\n",
       "      <td>Launch a flying attack and rescue the eggs fro...</td>\n",
       "      <td>75822</td>\n",
       "      <td>Easy</td>\n",
       "      <td>Piggy Plane Attack</td>\n",
       "      <td>5.0</td>\n",
       "      <td>Angry Birds™</td>\n",
       "      <td>4.0</td>\n",
       "      <td>US</td>\n",
       "    </tr>\n",
       "    <tr>\n",
       "      <td>2</td>\n",
       "      <td>11.0</td>\n",
       "      <td>74</td>\n",
       "      <td>4.3</td>\n",
       "      <td>Chase the piggy with lightning-fast Chuck and ...</td>\n",
       "      <td>75821</td>\n",
       "      <td>Easy</td>\n",
       "      <td>Piggy Car Escape</td>\n",
       "      <td>4.3</td>\n",
       "      <td>Angry Birds™</td>\n",
       "      <td>4.1</td>\n",
       "      <td>US</td>\n",
       "    </tr>\n",
       "    <tr>\n",
       "      <td>3</td>\n",
       "      <td>23.0</td>\n",
       "      <td>1032</td>\n",
       "      <td>3.6</td>\n",
       "      <td>Explore the architecture of the United States ...</td>\n",
       "      <td>21030</td>\n",
       "      <td>Average</td>\n",
       "      <td>United States Capitol Building</td>\n",
       "      <td>4.6</td>\n",
       "      <td>Architecture</td>\n",
       "      <td>4.3</td>\n",
       "      <td>US</td>\n",
       "    </tr>\n",
       "    <tr>\n",
       "      <td>4</td>\n",
       "      <td>14.0</td>\n",
       "      <td>744</td>\n",
       "      <td>3.2</td>\n",
       "      <td>Recreate the Solomon R. Guggenheim Museum® wit...</td>\n",
       "      <td>21035</td>\n",
       "      <td>Challenging</td>\n",
       "      <td>Solomon R. Guggenheim Museum®</td>\n",
       "      <td>4.6</td>\n",
       "      <td>Architecture</td>\n",
       "      <td>4.1</td>\n",
       "      <td>US</td>\n",
       "    </tr>\n",
       "  </tbody>\n",
       "</table>\n",
       "</div>"
      ],
      "text/plain": [
       "   num_reviews  piece_count  play_star_rating  \\\n",
       "0          2.0          277               4.0   \n",
       "1          2.0          168               4.0   \n",
       "2         11.0           74               4.3   \n",
       "3         23.0         1032               3.6   \n",
       "4         14.0          744               3.2   \n",
       "\n",
       "                                           prod_desc  prod_id  \\\n",
       "0  Catapult into action and take back the eggs fr...    75823   \n",
       "1  Launch a flying attack and rescue the eggs fro...    75822   \n",
       "2  Chase the piggy with lightning-fast Chuck and ...    75821   \n",
       "3  Explore the architecture of the United States ...    21030   \n",
       "4  Recreate the Solomon R. Guggenheim Museum® wit...    21035   \n",
       "\n",
       "  review_difficulty                        set_name  star_rating  \\\n",
       "0           Average           Bird Island Egg Heist          4.5   \n",
       "1              Easy              Piggy Plane Attack          5.0   \n",
       "2              Easy                Piggy Car Escape          4.3   \n",
       "3           Average  United States Capitol Building          4.6   \n",
       "4       Challenging   Solomon R. Guggenheim Museum®          4.6   \n",
       "\n",
       "     theme_name  val_star_rating country  \n",
       "0  Angry Birds™              4.0      US  \n",
       "1  Angry Birds™              4.0      US  \n",
       "2  Angry Birds™              4.1      US  \n",
       "3  Architecture              4.3      US  \n",
       "4  Architecture              4.1      US  "
      ]
     },
     "execution_count": 83,
     "metadata": {},
     "output_type": "execute_result"
    }
   ],
   "source": [
    "df = pd.read_csv(os.path.join(\"lego_sets.csv\"))\n",
    "df.head()"
   ]
  },
  {
   "cell_type": "code",
   "execution_count": 84,
   "metadata": {},
   "outputs": [],
   "source": [
    "import matplotlib.pyplot as plt\n",
    "import seaborn as sns\n",
    "sns.set_style('white')\n",
    "%matplotlib inline"
   ]
  },
  {
   "cell_type": "code",
   "execution_count": 85,
   "metadata": {},
   "outputs": [
    {
     "data": {
      "text/plain": [
       "set_name\n",
       "Lloyd            5.0\n",
       "Mater´s Shed     5.0\n",
       "Thanos           5.0\n",
       "Lightning Jet    5.0\n",
       "Little Plane     5.0\n",
       "Name: star_rating, dtype: float64"
      ]
     },
     "execution_count": 85,
     "metadata": {},
     "output_type": "execute_result"
    }
   ],
   "source": [
    "df.groupby('set_name')['star_rating'].mean().sort_values(ascending=False).head()"
   ]
  },
  {
   "cell_type": "code",
   "execution_count": 86,
   "metadata": {},
   "outputs": [
    {
     "data": {
      "text/plain": [
       "set_name\n",
       "Chewbacca™                 63\n",
       "Kylo Ren™                  63\n",
       "Rey                        63\n",
       "Thanos                     42\n",
       "Garmadon's Volcano Lair    42\n",
       "Name: star_rating, dtype: int64"
      ]
     },
     "execution_count": 86,
     "metadata": {},
     "output_type": "execute_result"
    }
   ],
   "source": [
    "df.groupby('set_name')['star_rating'].count().sort_values(ascending=False).head()"
   ]
  },
  {
   "cell_type": "code",
   "execution_count": 87,
   "metadata": {},
   "outputs": [
    {
     "data": {
      "text/html": [
       "<div>\n",
       "<style scoped>\n",
       "    .dataframe tbody tr th:only-of-type {\n",
       "        vertical-align: middle;\n",
       "    }\n",
       "\n",
       "    .dataframe tbody tr th {\n",
       "        vertical-align: top;\n",
       "    }\n",
       "\n",
       "    .dataframe thead th {\n",
       "        text-align: right;\n",
       "    }\n",
       "</style>\n",
       "<table border=\"1\" class=\"dataframe\">\n",
       "  <thead>\n",
       "    <tr style=\"text-align: right;\">\n",
       "      <th></th>\n",
       "      <th>star_rating</th>\n",
       "    </tr>\n",
       "    <tr>\n",
       "      <th>set_name</th>\n",
       "      <th></th>\n",
       "    </tr>\n",
       "  </thead>\n",
       "  <tbody>\n",
       "    <tr>\n",
       "      <td>1968 Ford Mustang Fastback</td>\n",
       "      <td>4.9</td>\n",
       "    </tr>\n",
       "    <tr>\n",
       "      <td>2016 Ford GT &amp; 1966 Ford GT40</td>\n",
       "      <td>4.8</td>\n",
       "    </tr>\n",
       "    <tr>\n",
       "      <td>24 Hours Race Car</td>\n",
       "      <td>4.8</td>\n",
       "    </tr>\n",
       "    <tr>\n",
       "      <td>4 x 4 Response Unit</td>\n",
       "      <td>5.0</td>\n",
       "    </tr>\n",
       "    <tr>\n",
       "      <td>6x6 All Terrain Tow Truck</td>\n",
       "      <td>3.5</td>\n",
       "    </tr>\n",
       "  </tbody>\n",
       "</table>\n",
       "</div>"
      ],
      "text/plain": [
       "                               star_rating\n",
       "set_name                                  \n",
       "1968 Ford Mustang Fastback             4.9\n",
       "2016 Ford GT & 1966 Ford GT40          4.8\n",
       "24 Hours Race Car                      4.8\n",
       "4 x 4 Response Unit                    5.0\n",
       "6x6 All Terrain Tow Truck              3.5"
      ]
     },
     "execution_count": 87,
     "metadata": {},
     "output_type": "execute_result"
    }
   ],
   "source": [
    "ratings = pd.DataFrame(df.groupby('set_name')['star_rating'].mean())\n",
    "ratings.head()"
   ]
  },
  {
   "cell_type": "code",
   "execution_count": 88,
   "metadata": {},
   "outputs": [
    {
     "data": {
      "text/html": [
       "<div>\n",
       "<style scoped>\n",
       "    .dataframe tbody tr th:only-of-type {\n",
       "        vertical-align: middle;\n",
       "    }\n",
       "\n",
       "    .dataframe tbody tr th {\n",
       "        vertical-align: top;\n",
       "    }\n",
       "\n",
       "    .dataframe thead th {\n",
       "        text-align: right;\n",
       "    }\n",
       "</style>\n",
       "<table border=\"1\" class=\"dataframe\">\n",
       "  <thead>\n",
       "    <tr style=\"text-align: right;\">\n",
       "      <th></th>\n",
       "      <th>star_rating</th>\n",
       "      <th>Number of Ratings</th>\n",
       "    </tr>\n",
       "    <tr>\n",
       "      <th>set_name</th>\n",
       "      <th></th>\n",
       "      <th></th>\n",
       "    </tr>\n",
       "  </thead>\n",
       "  <tbody>\n",
       "    <tr>\n",
       "      <td>1968 Ford Mustang Fastback</td>\n",
       "      <td>4.9</td>\n",
       "      <td>21</td>\n",
       "    </tr>\n",
       "    <tr>\n",
       "      <td>2016 Ford GT &amp; 1966 Ford GT40</td>\n",
       "      <td>4.8</td>\n",
       "      <td>20</td>\n",
       "    </tr>\n",
       "    <tr>\n",
       "      <td>24 Hours Race Car</td>\n",
       "      <td>4.8</td>\n",
       "      <td>2</td>\n",
       "    </tr>\n",
       "    <tr>\n",
       "      <td>4 x 4 Response Unit</td>\n",
       "      <td>5.0</td>\n",
       "      <td>21</td>\n",
       "    </tr>\n",
       "    <tr>\n",
       "      <td>6x6 All Terrain Tow Truck</td>\n",
       "      <td>3.5</td>\n",
       "      <td>21</td>\n",
       "    </tr>\n",
       "  </tbody>\n",
       "</table>\n",
       "</div>"
      ],
      "text/plain": [
       "                               star_rating  Number of Ratings\n",
       "set_name                                                     \n",
       "1968 Ford Mustang Fastback             4.9                 21\n",
       "2016 Ford GT & 1966 Ford GT40          4.8                 20\n",
       "24 Hours Race Car                      4.8                  2\n",
       "4 x 4 Response Unit                    5.0                 21\n",
       "6x6 All Terrain Tow Truck              3.5                 21"
      ]
     },
     "execution_count": 88,
     "metadata": {},
     "output_type": "execute_result"
    }
   ],
   "source": [
    "ratings['Number of Ratings'] = pd.DataFrame(df.groupby('set_name')['star_rating'].count())\n",
    "ratings.head()"
   ]
  },
  {
   "cell_type": "code",
   "execution_count": 89,
   "metadata": {},
   "outputs": [
    {
     "data": {
      "text/plain": [
       "<matplotlib.axes._subplots.AxesSubplot at 0x1a1b52c080>"
      ]
     },
     "execution_count": 89,
     "metadata": {},
     "output_type": "execute_result"
    },
    {
     "data": {
      "image/png": "[encoded data removed]",
      "text/plain": [
       "<Figure size 432x288 with 1 Axes>"
      ]
     },
     "metadata": {
      "needs_background": "light"
     },
     "output_type": "display_data"
    }
   ],
   "source": [
    "ratings['Number of Ratings'].hist(bins=60)"
   ]
  },
  {
   "cell_type": "code",
   "execution_count": 90,
   "metadata": {},
   "outputs": [
    {
     "data": {
      "text/plain": [
       "<matplotlib.axes._subplots.AxesSubplot at 0x1a1b4b2b00>"
      ]
     },
     "execution_count": 90,
     "metadata": {},
     "output_type": "execute_result"
    },
    {
     "data": {
      "image/png": "[encoded data removed]",
      "text/plain": [
       "<Figure size 432x288 with 1 Axes>"
      ]
     },
     "metadata": {
      "needs_background": "light"
     },
     "output_type": "display_data"
    }
   ],
   "source": [
    "ratings['star_rating'].hist(bins=50)"
   ]
  },
  {
   "cell_type": "code",
   "execution_count": 91,
   "metadata": {},
   "outputs": [
    {
     "data": {
      "text/plain": [
       "<seaborn.axisgrid.JointGrid at 0x1a1b17f4a8>"
      ]
     },
     "execution_count": 91,
     "metadata": {},
     "output_type": "execute_result"
    },
    {
     "data": {
      "image/png": "[encoded data removed]",
      "text/plain": [
       "<Figure size 432x432 with 3 Axes>"
      ]
     },
     "metadata": {
      "needs_background": "light"
     },
     "output_type": "display_data"
    }
   ],
   "source": [
    "sns.jointplot(x='star_rating',y='Number of Ratings',data=ratings,alpha=0.5)"
   ]
  },
  {
   "cell_type": "code",
   "execution_count": 92,
   "metadata": {},
   "outputs": [
    {
     "data": {
      "text/html": [
       "<div>\n",
       "<style scoped>\n",
       "    .dataframe tbody tr th:only-of-type {\n",
       "        vertical-align: middle;\n",
       "    }\n",
       "\n",
       "    .dataframe tbody tr th {\n",
       "        vertical-align: top;\n",
       "    }\n",
       "\n",
       "    .dataframe thead th {\n",
       "        text-align: right;\n",
       "    }\n",
       "</style>\n",
       "<table border=\"1\" class=\"dataframe\">\n",
       "  <thead>\n",
       "    <tr style=\"text-align: right;\">\n",
       "      <th>set_name</th>\n",
       "      <th>1968 Ford Mustang Fastback</th>\n",
       "      <th>2016 Ford GT &amp; 1966 Ford GT40</th>\n",
       "      <th>24 Hours Race Car</th>\n",
       "      <th>4 x 4 Response Unit</th>\n",
       "      <th>6x6 All Terrain Tow Truck</th>\n",
       "      <th>A-Team™ Fun Pack</th>\n",
       "      <th>A-Wing Starfighter™</th>\n",
       "      <th>A-Wing™ vs. TIE Silencer™ Microfighters</th>\n",
       "      <th>ATM Heist Battle</th>\n",
       "      <th>ATV Arrest</th>\n",
       "      <th>...</th>\n",
       "      <th>Winter Village Station</th>\n",
       "      <th>Women of NASA</th>\n",
       "      <th>Wonder Woman™</th>\n",
       "      <th>Wonder Woman™ Warrior Battle</th>\n",
       "      <th>Y-Wing Starfighter™</th>\n",
       "      <th>Y-Wing™ Microfighter</th>\n",
       "      <th>Yoda's Hut</th>\n",
       "      <th>Yoda's Jedi Starfighter™</th>\n",
       "      <th>Zane Fun Pack</th>\n",
       "      <th>garmadon, Garmadon, GARMADON!</th>\n",
       "    </tr>\n",
       "    <tr>\n",
       "      <th>num_reviews</th>\n",
       "      <th></th>\n",
       "      <th></th>\n",
       "      <th></th>\n",
       "      <th></th>\n",
       "      <th></th>\n",
       "      <th></th>\n",
       "      <th></th>\n",
       "      <th></th>\n",
       "      <th></th>\n",
       "      <th></th>\n",
       "      <th></th>\n",
       "      <th></th>\n",
       "      <th></th>\n",
       "      <th></th>\n",
       "      <th></th>\n",
       "      <th></th>\n",
       "      <th></th>\n",
       "      <th></th>\n",
       "      <th></th>\n",
       "      <th></th>\n",
       "      <th></th>\n",
       "    </tr>\n",
       "  </thead>\n",
       "  <tbody>\n",
       "    <tr>\n",
       "      <td>1.0</td>\n",
       "      <td>NaN</td>\n",
       "      <td>NaN</td>\n",
       "      <td>NaN</td>\n",
       "      <td>NaN</td>\n",
       "      <td>NaN</td>\n",
       "      <td>NaN</td>\n",
       "      <td>NaN</td>\n",
       "      <td>NaN</td>\n",
       "      <td>NaN</td>\n",
       "      <td>NaN</td>\n",
       "      <td>...</td>\n",
       "      <td>NaN</td>\n",
       "      <td>NaN</td>\n",
       "      <td>NaN</td>\n",
       "      <td>NaN</td>\n",
       "      <td>5.0</td>\n",
       "      <td>NaN</td>\n",
       "      <td>NaN</td>\n",
       "      <td>NaN</td>\n",
       "      <td>NaN</td>\n",
       "      <td>NaN</td>\n",
       "    </tr>\n",
       "    <tr>\n",
       "      <td>2.0</td>\n",
       "      <td>NaN</td>\n",
       "      <td>NaN</td>\n",
       "      <td>NaN</td>\n",
       "      <td>5.0</td>\n",
       "      <td>NaN</td>\n",
       "      <td>NaN</td>\n",
       "      <td>NaN</td>\n",
       "      <td>NaN</td>\n",
       "      <td>NaN</td>\n",
       "      <td>NaN</td>\n",
       "      <td>...</td>\n",
       "      <td>NaN</td>\n",
       "      <td>NaN</td>\n",
       "      <td>NaN</td>\n",
       "      <td>NaN</td>\n",
       "      <td>NaN</td>\n",
       "      <td>NaN</td>\n",
       "      <td>NaN</td>\n",
       "      <td>NaN</td>\n",
       "      <td>NaN</td>\n",
       "      <td>NaN</td>\n",
       "    </tr>\n",
       "    <tr>\n",
       "      <td>3.0</td>\n",
       "      <td>NaN</td>\n",
       "      <td>NaN</td>\n",
       "      <td>NaN</td>\n",
       "      <td>NaN</td>\n",
       "      <td>NaN</td>\n",
       "      <td>4.3</td>\n",
       "      <td>NaN</td>\n",
       "      <td>4.3</td>\n",
       "      <td>NaN</td>\n",
       "      <td>NaN</td>\n",
       "      <td>...</td>\n",
       "      <td>NaN</td>\n",
       "      <td>NaN</td>\n",
       "      <td>NaN</td>\n",
       "      <td>NaN</td>\n",
       "      <td>NaN</td>\n",
       "      <td>NaN</td>\n",
       "      <td>NaN</td>\n",
       "      <td>NaN</td>\n",
       "      <td>NaN</td>\n",
       "      <td>NaN</td>\n",
       "    </tr>\n",
       "    <tr>\n",
       "      <td>4.0</td>\n",
       "      <td>NaN</td>\n",
       "      <td>NaN</td>\n",
       "      <td>NaN</td>\n",
       "      <td>NaN</td>\n",
       "      <td>NaN</td>\n",
       "      <td>NaN</td>\n",
       "      <td>NaN</td>\n",
       "      <td>NaN</td>\n",
       "      <td>NaN</td>\n",
       "      <td>NaN</td>\n",
       "      <td>...</td>\n",
       "      <td>NaN</td>\n",
       "      <td>NaN</td>\n",
       "      <td>NaN</td>\n",
       "      <td>NaN</td>\n",
       "      <td>NaN</td>\n",
       "      <td>NaN</td>\n",
       "      <td>NaN</td>\n",
       "      <td>NaN</td>\n",
       "      <td>NaN</td>\n",
       "      <td>NaN</td>\n",
       "    </tr>\n",
       "    <tr>\n",
       "      <td>5.0</td>\n",
       "      <td>NaN</td>\n",
       "      <td>NaN</td>\n",
       "      <td>NaN</td>\n",
       "      <td>NaN</td>\n",
       "      <td>NaN</td>\n",
       "      <td>NaN</td>\n",
       "      <td>NaN</td>\n",
       "      <td>NaN</td>\n",
       "      <td>NaN</td>\n",
       "      <td>4.4</td>\n",
       "      <td>...</td>\n",
       "      <td>NaN</td>\n",
       "      <td>NaN</td>\n",
       "      <td>5.0</td>\n",
       "      <td>NaN</td>\n",
       "      <td>NaN</td>\n",
       "      <td>NaN</td>\n",
       "      <td>4.4</td>\n",
       "      <td>NaN</td>\n",
       "      <td>NaN</td>\n",
       "      <td>NaN</td>\n",
       "    </tr>\n",
       "  </tbody>\n",
       "</table>\n",
       "<p>5 rows × 656 columns</p>\n",
       "</div>"
      ],
      "text/plain": [
       "set_name     1968 Ford Mustang Fastback  2016 Ford GT & 1966 Ford GT40  \\\n",
       "num_reviews                                                              \n",
       "1.0                                 NaN                            NaN   \n",
       "2.0                                 NaN                            NaN   \n",
       "3.0                                 NaN                            NaN   \n",
       "4.0                                 NaN                            NaN   \n",
       "5.0                                 NaN                            NaN   \n",
       "\n",
       "set_name     24 Hours Race Car  4 x 4 Response Unit  \\\n",
       "num_reviews                                           \n",
       "1.0                        NaN                  NaN   \n",
       "2.0                        NaN                  5.0   \n",
       "3.0                        NaN                  NaN   \n",
       "4.0                        NaN                  NaN   \n",
       "5.0                        NaN                  NaN   \n",
       "\n",
       "set_name     6x6 All Terrain Tow Truck  A-Team™ Fun Pack  A-Wing Starfighter™  \\\n",
       "num_reviews                                                                     \n",
       "1.0                                NaN               NaN                  NaN   \n",
       "2.0                                NaN               NaN                  NaN   \n",
       "3.0                                NaN               4.3                  NaN   \n",
       "4.0                                NaN               NaN                  NaN   \n",
       "5.0                                NaN               NaN                  NaN   \n",
       "\n",
       "set_name     A-Wing™ vs. TIE Silencer™ Microfighters  ATM Heist Battle  \\\n",
       "num_reviews                                                              \n",
       "1.0                                              NaN               NaN   \n",
       "2.0                                              NaN               NaN   \n",
       "3.0                                              4.3               NaN   \n",
       "4.0                                              NaN               NaN   \n",
       "5.0                                              NaN               NaN   \n",
       "\n",
       "set_name     ATV Arrest  ...  Winter Village Station  Women of NASA  \\\n",
       "num_reviews              ...                                          \n",
       "1.0                 NaN  ...                     NaN            NaN   \n",
       "2.0                 NaN  ...                     NaN            NaN   \n",
       "3.0                 NaN  ...                     NaN            NaN   \n",
       "4.0                 NaN  ...                     NaN            NaN   \n",
       "5.0                 4.4  ...                     NaN            NaN   \n",
       "\n",
       "set_name     Wonder Woman™  Wonder Woman™ Warrior Battle  Y-Wing Starfighter™  \\\n",
       "num_reviews                                                                     \n",
       "1.0                    NaN                           NaN                  5.0   \n",
       "2.0                    NaN                           NaN                  NaN   \n",
       "3.0                    NaN                           NaN                  NaN   \n",
       "4.0                    NaN                           NaN                  NaN   \n",
       "5.0                    5.0                           NaN                  NaN   \n",
       "\n",
       "set_name     Y-Wing™ Microfighter  Yoda's Hut  Yoda's Jedi Starfighter™  \\\n",
       "num_reviews                                                               \n",
       "1.0                           NaN         NaN                       NaN   \n",
       "2.0                           NaN         NaN                       NaN   \n",
       "3.0                           NaN         NaN                       NaN   \n",
       "4.0                           NaN         NaN                       NaN   \n",
       "5.0                           NaN         4.4                       NaN   \n",
       "\n",
       "set_name     Zane Fun Pack  garmadon, Garmadon, GARMADON!  \n",
       "num_reviews                                                \n",
       "1.0                    NaN                            NaN  \n",
       "2.0                    NaN                            NaN  \n",
       "3.0                    NaN                            NaN  \n",
       "4.0                    NaN                            NaN  \n",
       "5.0                    NaN                            NaN  \n",
       "\n",
       "[5 rows x 656 columns]"
      ]
     },
     "execution_count": 92,
     "metadata": {},
     "output_type": "execute_result"
    }
   ],
   "source": [
    "setreview = df.pivot_table(index='num_reviews',columns='set_name',values='star_rating')\n",
    "setreview.head()"
   ]
  },
  {
   "cell_type": "code",
   "execution_count": 68,
   "metadata": {},
   "outputs": [
    {
     "data": {
      "text/html": [
       "<div>\n",
       "<style scoped>\n",
       "    .dataframe tbody tr th:only-of-type {\n",
       "        vertical-align: middle;\n",
       "    }\n",
       "\n",
       "    .dataframe tbody tr th {\n",
       "        vertical-align: top;\n",
       "    }\n",
       "\n",
       "    .dataframe thead th {\n",
       "        text-align: right;\n",
       "    }\n",
       "</style>\n",
       "<table border=\"1\" class=\"dataframe\">\n",
       "  <thead>\n",
       "    <tr style=\"text-align: right;\">\n",
       "      <th></th>\n",
       "      <th>star_rating</th>\n",
       "      <th>Number of Ratings</th>\n",
       "    </tr>\n",
       "    <tr>\n",
       "      <th>set_name</th>\n",
       "      <th></th>\n",
       "      <th></th>\n",
       "    </tr>\n",
       "  </thead>\n",
       "  <tbody>\n",
       "    <tr>\n",
       "      <td>Chewbacca™</td>\n",
       "      <td>3.200000</td>\n",
       "      <td>63</td>\n",
       "    </tr>\n",
       "    <tr>\n",
       "      <td>Rey</td>\n",
       "      <td>4.900000</td>\n",
       "      <td>63</td>\n",
       "    </tr>\n",
       "    <tr>\n",
       "      <td>Kylo Ren™</td>\n",
       "      <td>4.833333</td>\n",
       "      <td>63</td>\n",
       "    </tr>\n",
       "    <tr>\n",
       "      <td>garmadon, Garmadon, GARMADON!</td>\n",
       "      <td>4.900000</td>\n",
       "      <td>42</td>\n",
       "    </tr>\n",
       "    <tr>\n",
       "      <td>Smokey's Garage</td>\n",
       "      <td>4.500000</td>\n",
       "      <td>42</td>\n",
       "    </tr>\n",
       "    <tr>\n",
       "      <td>Owen &amp; Blue</td>\n",
       "      <td>5.000000</td>\n",
       "      <td>42</td>\n",
       "    </tr>\n",
       "    <tr>\n",
       "      <td>Piranha Attack</td>\n",
       "      <td>3.600000</td>\n",
       "      <td>42</td>\n",
       "    </tr>\n",
       "    <tr>\n",
       "      <td>Green Ninja Mech Dragon</td>\n",
       "      <td>4.700000</td>\n",
       "      <td>42</td>\n",
       "    </tr>\n",
       "    <tr>\n",
       "      <td>Quake Mech</td>\n",
       "      <td>4.500000</td>\n",
       "      <td>42</td>\n",
       "    </tr>\n",
       "    <tr>\n",
       "      <td>Spider-Man vs. Scorpion Street Showdown</td>\n",
       "      <td>4.000000</td>\n",
       "      <td>42</td>\n",
       "    </tr>\n",
       "  </tbody>\n",
       "</table>\n",
       "</div>"
      ],
      "text/plain": [
       "                                         star_rating  Number of Ratings\n",
       "set_name                                                               \n",
       "Chewbacca™                                  3.200000                 63\n",
       "Rey                                         4.900000                 63\n",
       "Kylo Ren™                                   4.833333                 63\n",
       "garmadon, Garmadon, GARMADON!               4.900000                 42\n",
       "Smokey's Garage                             4.500000                 42\n",
       "Owen & Blue                                 5.000000                 42\n",
       "Piranha Attack                              3.600000                 42\n",
       "Green Ninja Mech Dragon                     4.700000                 42\n",
       "Quake Mech                                  4.500000                 42\n",
       "Spider-Man vs. Scorpion Street Showdown     4.000000                 42"
      ]
     },
     "execution_count": 68,
     "metadata": {},
     "output_type": "execute_result"
    }
   ],
   "source": [
    "ratings.sort_values('Number of Ratings',ascending=False).head(10)"
   ]
  },
  {
   "cell_type": "code",
   "execution_count": 69,
   "metadata": {},
   "outputs": [
    {
     "data": {
      "text/html": [
       "<div>\n",
       "<style scoped>\n",
       "    .dataframe tbody tr th:only-of-type {\n",
       "        vertical-align: middle;\n",
       "    }\n",
       "\n",
       "    .dataframe tbody tr th {\n",
       "        vertical-align: top;\n",
       "    }\n",
       "\n",
       "    .dataframe thead th {\n",
       "        text-align: right;\n",
       "    }\n",
       "</style>\n",
       "<table border=\"1\" class=\"dataframe\">\n",
       "  <thead>\n",
       "    <tr style=\"text-align: right;\">\n",
       "      <th></th>\n",
       "      <th>star_rating</th>\n",
       "      <th>Number of Ratings</th>\n",
       "    </tr>\n",
       "    <tr>\n",
       "      <th>set_name</th>\n",
       "      <th></th>\n",
       "      <th></th>\n",
       "    </tr>\n",
       "  </thead>\n",
       "  <tbody>\n",
       "    <tr>\n",
       "      <td>1968 Ford Mustang Fastback</td>\n",
       "      <td>4.9</td>\n",
       "      <td>21</td>\n",
       "    </tr>\n",
       "    <tr>\n",
       "      <td>2016 Ford GT &amp; 1966 Ford GT40</td>\n",
       "      <td>4.8</td>\n",
       "      <td>20</td>\n",
       "    </tr>\n",
       "    <tr>\n",
       "      <td>24 Hours Race Car</td>\n",
       "      <td>4.8</td>\n",
       "      <td>2</td>\n",
       "    </tr>\n",
       "    <tr>\n",
       "      <td>4 x 4 Response Unit</td>\n",
       "      <td>5.0</td>\n",
       "      <td>21</td>\n",
       "    </tr>\n",
       "    <tr>\n",
       "      <td>6x6 All Terrain Tow Truck</td>\n",
       "      <td>3.5</td>\n",
       "      <td>21</td>\n",
       "    </tr>\n",
       "  </tbody>\n",
       "</table>\n",
       "</div>"
      ],
      "text/plain": [
       "                               star_rating  Number of Ratings\n",
       "set_name                                                     \n",
       "1968 Ford Mustang Fastback             4.9                 21\n",
       "2016 Ford GT & 1966 Ford GT40          4.8                 20\n",
       "24 Hours Race Car                      4.8                  2\n",
       "4 x 4 Response Unit                    5.0                 21\n",
       "6x6 All Terrain Tow Truck              3.5                 21"
      ]
     },
     "execution_count": 69,
     "metadata": {},
     "output_type": "execute_result"
    }
   ],
   "source": [
    "ratings.head()"
   ]
  },
  {
   "cell_type": "code",
   "execution_count": 71,
   "metadata": {},
   "outputs": [
    {
     "data": {
      "text/plain": [
       "num_reviews\n",
       "1.0   NaN\n",
       "2.0   NaN\n",
       "3.0   NaN\n",
       "4.0   NaN\n",
       "5.0   NaN\n",
       "Name: 1968 Ford Mustang Fastback, dtype: float64"
      ]
     },
     "execution_count": 71,
     "metadata": {},
     "output_type": "execute_result"
    }
   ],
   "source": [
    "ford_mustang_user_ratings =  ['1968 Ford Mustang Fastback']\n",
    "ford_mustang_user_ratings .head()"
   ]
  },
  {
   "cell_type": "code",
   "execution_count": 72,
   "metadata": {},
   "outputs": [],
   "source": [
    "similar_to_ford_mustang = setreview.corrwith(ford_mustang_user_ratings)"
   ]
  },
  {
   "cell_type": "code",
   "execution_count": 73,
   "metadata": {},
   "outputs": [
    {
     "data": {
      "text/html": [
       "<div>\n",
       "<style scoped>\n",
       "    .dataframe tbody tr th:only-of-type {\n",
       "        vertical-align: middle;\n",
       "    }\n",
       "\n",
       "    .dataframe tbody tr th {\n",
       "        vertical-align: top;\n",
       "    }\n",
       "\n",
       "    .dataframe thead th {\n",
       "        text-align: right;\n",
       "    }\n",
       "</style>\n",
       "<table border=\"1\" class=\"dataframe\">\n",
       "  <thead>\n",
       "    <tr style=\"text-align: right;\">\n",
       "      <th></th>\n",
       "      <th>Correlation</th>\n",
       "    </tr>\n",
       "    <tr>\n",
       "      <th>set_name</th>\n",
       "      <th></th>\n",
       "    </tr>\n",
       "  </thead>\n",
       "  <tbody>\n",
       "  </tbody>\n",
       "</table>\n",
       "</div>"
      ],
      "text/plain": [
       "Empty DataFrame\n",
       "Columns: [Correlation]\n",
       "Index: []"
      ]
     },
     "execution_count": 73,
     "metadata": {},
     "output_type": "execute_result"
    }
   ],
   "source": [
    "corr_of_set = pd.DataFrame(similar_to_ford_mustang,columns=['Correlation'])\n",
    "corr_of_set.dropna(inplace=True)\n",
    "corr_of_set.head()"
   ]
  },
  {
   "cell_type": "code",
   "execution_count": null,
   "metadata": {},
   "outputs": [],
   "source": []
  }
 ],
 "metadata": {
  "kernelspec": {
   "display_name": "PythonData",
   "language": "python",
   "name": "pythondata"
  },
  "language_info": {
   "codemirror_mode": {
    "name": "ipython",
    "version": 3
   },
   "file_extension": ".py",
   "mimetype": "text/x-python",
   "name": "python",
   "nbconvert_exporter": "python",
   "pygments_lexer": "ipython3",
   "version": "3.6.9"
  }
 },
 "nbformat": 4,
 "nbformat_minor": 2
}
