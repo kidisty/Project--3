{
 "cells": [
  {
   "cell_type": "markdown",
   "metadata": {},
   "source": [
    "# Setting up"
   ]
  },
  {
   "cell_type": "code",
   "execution_count": 1,
   "metadata": {},
   "outputs": [],
   "source": [
    "# Prepare dependencies\n",
    "import numpy as np\n",
    "import scipy.stats as stats\n",
    "import pandas as pd\n",
    "import seaborn as sns\n",
    "\n",
    "import matplotlib\n",
    "import matplotlib.pyplot as plt\n",
    "\n",
    "%config InlineBackend.figure_format = 'retina'\n",
    "%matplotlib inline\n",
    "\n",
    "plt.style.use('seaborn')"
   ]
  },
  {
   "cell_type": "markdown",
   "metadata": {},
   "source": [
    "# Preparing datasets"
   ]
  },
  {
   "cell_type": "code",
   "execution_count": 2,
   "metadata": {
    "scrolled": true
   },
   "outputs": [
    {
     "data": {
      "text/html": [
       "<div>\n",
       "<style scoped>\n",
       "    .dataframe tbody tr th:only-of-type {\n",
       "        vertical-align: middle;\n",
       "    }\n",
       "\n",
       "    .dataframe tbody tr th {\n",
       "        vertical-align: top;\n",
       "    }\n",
       "\n",
       "    .dataframe thead th {\n",
       "        text-align: right;\n",
       "    }\n",
       "</style>\n",
       "<table border=\"1\" class=\"dataframe\">\n",
       "  <thead>\n",
       "    <tr style=\"text-align: right;\">\n",
       "      <th></th>\n",
       "      <th>SetID</th>\n",
       "      <th>Number</th>\n",
       "      <th>Variant</th>\n",
       "      <th>Theme</th>\n",
       "      <th>Subtheme</th>\n",
       "      <th>Year</th>\n",
       "      <th>Name</th>\n",
       "      <th>Minifigs</th>\n",
       "      <th>Pieces</th>\n",
       "      <th>USPrice</th>\n",
       "      <th>ImageURL</th>\n",
       "      <th>OwnedBy</th>\n",
       "      <th>WantedBy</th>\n",
       "      <th>Rating</th>\n",
       "    </tr>\n",
       "  </thead>\n",
       "  <tbody>\n",
       "    <tr>\n",
       "      <td>0</td>\n",
       "      <td>29682</td>\n",
       "      <td>75267</td>\n",
       "      <td>1</td>\n",
       "      <td>Star Wars</td>\n",
       "      <td>The Mandalorian</td>\n",
       "      <td>2020</td>\n",
       "      <td>Mandalorian Battle Pack</td>\n",
       "      <td>4.0</td>\n",
       "      <td>102.0</td>\n",
       "      <td>14.99</td>\n",
       "      <td>https://images.brickset.com/sets/images/75267-...</td>\n",
       "      <td>2794</td>\n",
       "      <td>3080</td>\n",
       "      <td>NaN</td>\n",
       "    </tr>\n",
       "    <tr>\n",
       "      <td>1</td>\n",
       "      <td>29491</td>\n",
       "      <td>76895</td>\n",
       "      <td>1</td>\n",
       "      <td>Speed Champions</td>\n",
       "      <td>NaN</td>\n",
       "      <td>2020</td>\n",
       "      <td>Ferrari F8 Tributo</td>\n",
       "      <td>NaN</td>\n",
       "      <td>275.0</td>\n",
       "      <td>19.99</td>\n",
       "      <td>https://images.brickset.com/sets/images/76895-...</td>\n",
       "      <td>857</td>\n",
       "      <td>2055</td>\n",
       "      <td>NaN</td>\n",
       "    </tr>\n",
       "  </tbody>\n",
       "</table>\n",
       "</div>"
      ],
      "text/plain": [
       "   SetID Number  Variant            Theme         Subtheme  Year  \\\n",
       "0  29682  75267        1        Star Wars  The Mandalorian  2020   \n",
       "1  29491  76895        1  Speed Champions              NaN  2020   \n",
       "\n",
       "                      Name  Minifigs  Pieces  USPrice  \\\n",
       "0  Mandalorian Battle Pack       4.0   102.0    14.99   \n",
       "1       Ferrari F8 Tributo       NaN   275.0    19.99   \n",
       "\n",
       "                                            ImageURL  OwnedBy  WantedBy  \\\n",
       "0  https://images.brickset.com/sets/images/75267-...     2794      3080   \n",
       "1  https://images.brickset.com/sets/images/76895-...      857      2055   \n",
       "\n",
       "   Rating  \n",
       "0     NaN  \n",
       "1     NaN  "
      ]
     },
     "execution_count": 2,
     "metadata": {},
     "output_type": "execute_result"
    }
   ],
   "source": [
    "legoData = pd.read_csv('lego2017_2020.csv')\n",
    "legoData.head(2)"
   ]
  },
  {
   "cell_type": "code",
   "execution_count": 3,
   "metadata": {},
   "outputs": [
    {
     "data": {
      "text/html": [
       "<div>\n",
       "<style scoped>\n",
       "    .dataframe tbody tr th:only-of-type {\n",
       "        vertical-align: middle;\n",
       "    }\n",
       "\n",
       "    .dataframe tbody tr th {\n",
       "        vertical-align: top;\n",
       "    }\n",
       "\n",
       "    .dataframe thead th {\n",
       "        text-align: right;\n",
       "    }\n",
       "</style>\n",
       "<table border=\"1\" class=\"dataframe\">\n",
       "  <thead>\n",
       "    <tr style=\"text-align: right;\">\n",
       "      <th></th>\n",
       "      <th>num_reviews</th>\n",
       "      <th>piece_count</th>\n",
       "      <th>play_star_rating</th>\n",
       "      <th>prod_desc</th>\n",
       "      <th>prod_id</th>\n",
       "      <th>review_difficulty</th>\n",
       "      <th>set_name</th>\n",
       "      <th>star_rating</th>\n",
       "      <th>theme_name</th>\n",
       "      <th>val_star_rating</th>\n",
       "      <th>country</th>\n",
       "    </tr>\n",
       "  </thead>\n",
       "  <tbody>\n",
       "    <tr>\n",
       "      <td>0</td>\n",
       "      <td>2.0</td>\n",
       "      <td>277</td>\n",
       "      <td>4.0</td>\n",
       "      <td>Catapult into action and take back the eggs fr...</td>\n",
       "      <td>75823</td>\n",
       "      <td>Average</td>\n",
       "      <td>Bird Island Egg Heist</td>\n",
       "      <td>4.5</td>\n",
       "      <td>Angry Birds™</td>\n",
       "      <td>4.0</td>\n",
       "      <td>US</td>\n",
       "    </tr>\n",
       "    <tr>\n",
       "      <td>1</td>\n",
       "      <td>2.0</td>\n",
       "      <td>168</td>\n",
       "      <td>4.0</td>\n",
       "      <td>Launch a flying attack and rescue the eggs fro...</td>\n",
       "      <td>75822</td>\n",
       "      <td>Easy</td>\n",
       "      <td>Piggy Plane Attack</td>\n",
       "      <td>5.0</td>\n",
       "      <td>Angry Birds™</td>\n",
       "      <td>4.0</td>\n",
       "      <td>US</td>\n",
       "    </tr>\n",
       "  </tbody>\n",
       "</table>\n",
       "</div>"
      ],
      "text/plain": [
       "   num_reviews  piece_count  play_star_rating  \\\n",
       "0          2.0          277               4.0   \n",
       "1          2.0          168               4.0   \n",
       "\n",
       "                                           prod_desc  prod_id  \\\n",
       "0  Catapult into action and take back the eggs fr...    75823   \n",
       "1  Launch a flying attack and rescue the eggs fro...    75822   \n",
       "\n",
       "  review_difficulty               set_name  star_rating    theme_name  \\\n",
       "0           Average  Bird Island Egg Heist          4.5  Angry Birds™   \n",
       "1              Easy     Piggy Plane Attack          5.0  Angry Birds™   \n",
       "\n",
       "   val_star_rating country  \n",
       "0              4.0      US  \n",
       "1              4.0      US  "
      ]
     },
     "execution_count": 3,
     "metadata": {},
     "output_type": "execute_result"
    }
   ],
   "source": [
    "legoData2 = pd.read_csv('lego_sets.csv')\n",
    "legoData2.head(2)"
   ]
  },
  {
   "cell_type": "markdown",
   "metadata": {},
   "source": [
    "# Cleaning datasets"
   ]
  },
  {
   "cell_type": "markdown",
   "metadata": {},
   "source": [
    "## 1. LegoData"
   ]
  },
  {
   "cell_type": "code",
   "execution_count": 4,
   "metadata": {},
   "outputs": [],
   "source": [
    "# Make columns lowercase\n",
    "legoData.columns = [x.lower()for x in legoData.columns]\n",
    "\n",
    "# Revise column names\n",
    "legoData = legoData.rename(columns={'imageurl': 'image_url',\n",
    "                            'usprice': 'price',\n",
    "                            'ownedby': 'owned_by',\n",
    "                            'wantedby': 'wanted_by'})"
   ]
  },
  {
   "cell_type": "code",
   "execution_count": 24,
   "metadata": {},
   "outputs": [
    {
     "data": {
      "text/plain": [
       "setid          int64\n",
       "number        object\n",
       "variant        int64\n",
       "theme         object\n",
       "subtheme      object\n",
       "year           int64\n",
       "name          object\n",
       "pieces       float64\n",
       "price        float64\n",
       "image_url     object\n",
       "owned_by       int64\n",
       "wanted_by      int64\n",
       "dtype: object"
      ]
     },
     "execution_count": 24,
     "metadata": {},
     "output_type": "execute_result"
    }
   ],
   "source": [
    "# Check variables' types\n",
    "legoData.dtypes"
   ]
  },
  {
   "cell_type": "code",
   "execution_count": 25,
   "metadata": {},
   "outputs": [],
   "source": [
    "# Change type of 'setid'\n",
    "legoData['setid'] = legoData['setid'].astype(str)"
   ]
  },
  {
   "cell_type": "code",
   "execution_count": 5,
   "metadata": {
    "scrolled": false
   },
   "outputs": [
    {
     "data": {
      "text/plain": [
       "setid           0\n",
       "number          0\n",
       "variant         0\n",
       "theme           0\n",
       "subtheme      519\n",
       "year            0\n",
       "name            0\n",
       "minifigs      562\n",
       "pieces        108\n",
       "price         460\n",
       "image_url       0\n",
       "owned_by        0\n",
       "wanted_by       0\n",
       "rating       1896\n",
       "dtype: int64"
      ]
     },
     "execution_count": 5,
     "metadata": {},
     "output_type": "execute_result"
    }
   ],
   "source": [
    "# Check NaNs\n",
    "legoData.isnull().sum()"
   ]
  },
  {
   "cell_type": "code",
   "execution_count": 6,
   "metadata": {},
   "outputs": [],
   "source": [
    "# Remove 'Rating' & 'Minifigs' columns\n",
    "legoData = legoData.drop(['rating', 'minifigs'], axis=1)"
   ]
  },
  {
   "cell_type": "code",
   "execution_count": 8,
   "metadata": {},
   "outputs": [],
   "source": [
    "# Replace NaNs in 'subtheme' with 'Not Available'\n",
    "legoData['subtheme'] = legoData['subtheme'].fillna('Not Available')\n",
    "\n",
    "# Replace NaNs in 'pieces' with 0\n",
    "legoData['pieces'] = legoData['pieces'].fillna(0)\n",
    "\n",
    "# Replace NaNs in 'price' with 'pieces' * 0.08\n",
    "# 0.08 is a rough-guess for purchasing a brick based on Lego website\n",
    "legoData['price'] = legoData.apply(lambda row: row['pieces'] * 0.08 if np.isnan(row['price']) else row['price'],\n",
    "                                   axis=1)"
   ]
  },
  {
   "cell_type": "markdown",
   "metadata": {},
   "source": [
    "## 2. LegoData2"
   ]
  },
  {
   "cell_type": "code",
   "execution_count": 13,
   "metadata": {},
   "outputs": [
    {
     "data": {
      "text/plain": [
       "array(['US', 'AU', 'AT', 'BE', 'CA', 'CH', 'CZ', 'DE', 'DN', 'ES', 'FI',\n",
       "       'FR', 'GB', 'IE', 'IT', 'LU', 'NO', 'NL', 'NZ', 'PL', 'PT'],\n",
       "      dtype=object)"
      ]
     },
     "execution_count": 13,
     "metadata": {},
     "output_type": "execute_result"
    }
   ],
   "source": [
    "# Check unique info in 'country'\n",
    "legoData2['country'].unique()"
   ]
  },
  {
   "cell_type": "code",
   "execution_count": 15,
   "metadata": {},
   "outputs": [],
   "source": [
    "# Keep US data\n",
    "legoData2 = legoData2.loc[legoData2['country'] == 'US']"
   ]
  },
  {
   "cell_type": "code",
   "execution_count": 27,
   "metadata": {},
   "outputs": [
    {
     "data": {
      "text/plain": [
       "num_reviews          float64\n",
       "piece_count            int64\n",
       "play_star_rating     float64\n",
       "prod_desc             object\n",
       "prod_id                int64\n",
       "review_difficulty     object\n",
       "set_name              object\n",
       "star_rating          float64\n",
       "theme_name            object\n",
       "val_star_rating      float64\n",
       "country               object\n",
       "dtype: object"
      ]
     },
     "execution_count": 27,
     "metadata": {},
     "output_type": "execute_result"
    }
   ],
   "source": [
    "# Check variables' types\n",
    "legoData2.dtypes"
   ]
  },
  {
   "cell_type": "code",
   "execution_count": 28,
   "metadata": {},
   "outputs": [],
   "source": [
    "# Change type of 'prod_id'\n",
    "legoData2['prod_id'] = legoData2['prod_id'].astype(str)"
   ]
  },
  {
   "cell_type": "code",
   "execution_count": 16,
   "metadata": {
    "scrolled": true
   },
   "outputs": [
    {
     "data": {
      "text/plain": [
       "num_reviews           98\n",
       "piece_count            0\n",
       "play_star_rating     107\n",
       "prod_desc             20\n",
       "prod_id                0\n",
       "review_difficulty    124\n",
       "set_name               0\n",
       "star_rating           98\n",
       "theme_name             0\n",
       "val_star_rating      108\n",
       "country                0\n",
       "dtype: int64"
      ]
     },
     "execution_count": 16,
     "metadata": {},
     "output_type": "execute_result"
    }
   ],
   "source": [
    "# Check NaNs\n",
    "legoData2.isnull().sum()"
   ]
  },
  {
   "cell_type": "code",
   "execution_count": 17,
   "metadata": {},
   "outputs": [],
   "source": [
    "# Replace NaNs in 'num_reviews', 'X_rating' with 0\n",
    "legoData2['num_reviews'] = legoData2['num_reviews'].fillna(0)\n",
    "legoData2['play_star_rating'] = legoData2['play_star_rating'].fillna(0)\n",
    "legoData2['star_rating'] = legoData2['star_rating'].fillna(0)\n",
    "legoData2['val_star_rating'] = legoData2['val_star_rating'].fillna(0)\n",
    "\n",
    "# Replace NaN in 'review_difficulty', 'prod_desc' with 'Not Available'\n",
    "legoData2['review_difficulty'] = legoData2['review_difficulty'].fillna('Not Available')\n",
    "legoData2['prod_desc'] = legoData2['prod_desc'].fillna('Not Available')"
   ]
  },
  {
   "cell_type": "markdown",
   "metadata": {},
   "source": [
    "## 3. Merged datasets"
   ]
  },
  {
   "cell_type": "code",
   "execution_count": 48,
   "metadata": {},
   "outputs": [],
   "source": [
    "dfLego = pd.merge(legoData, \n",
    "                  legoData2,\n",
    "                  left_on='number',\n",
    "                  right_on='prod_id',\n",
    "                  how='left')"
   ]
  },
  {
   "cell_type": "code",
   "execution_count": 54,
   "metadata": {},
   "outputs": [],
   "source": [
    "# Remove duplicated columns ('piece_count', 'prod_id', 'theme_name')\n",
    "dfLego = dfLego.drop(['piece_count', 'prod_id', 'theme_name'], axis=1)\n",
    "\n",
    "# Remove 'country' column\n",
    "dfLego = dfLego.drop(['country'], axis=1)"
   ]
  },
  {
   "cell_type": "code",
   "execution_count": 56,
   "metadata": {},
   "outputs": [],
   "source": [
    "# Replace NaNs with 0 and 'Not Available'\n",
    "dfLego['num_reviews'] = dfLego['num_reviews'].fillna(0)\n",
    "dfLego['play_star_rating'] = dfLego['play_star_rating'].fillna(0)\n",
    "dfLego['star_rating'] = dfLego['star_rating'].fillna(0)\n",
    "dfLego['val_star_rating'] = dfLego['val_star_rating'].fillna(0)\n",
    "\n",
    "dfLego['prod_desc'] = dfLego['prod_desc'].fillna(\"Not Available\")\n",
    "dfLego['review_difficulty'] = dfLego['review_difficulty'].fillna('Not Available')\n",
    "dfLego['set_name'] = dfLego['set_name'].fillna('Not Available')"
   ]
  },
  {
   "cell_type": "code",
   "execution_count": 65,
   "metadata": {},
   "outputs": [
    {
     "data": {
      "text/plain": [
       "0       False\n",
       "1       False\n",
       "2       False\n",
       "3       False\n",
       "4       False\n",
       "        ...  \n",
       "2045    False\n",
       "2046    False\n",
       "2047     True\n",
       "2048    False\n",
       "2049    False\n",
       "Length: 2050, dtype: bool"
      ]
     },
     "execution_count": 65,
     "metadata": {},
     "output_type": "execute_result"
    }
   ],
   "source": [
    "# Find deplicates\n",
    "dfLego.duplicated('setid')"
   ]
  },
  {
   "cell_type": "code",
   "execution_count": 68,
   "metadata": {},
   "outputs": [],
   "source": [
    "# Remove duplicates\n",
    "dfLego = dfLego.drop_duplicates(['setid'])"
   ]
  },
  {
   "cell_type": "markdown",
   "metadata": {},
   "source": [
    "# Exporting dataframe to a csv"
   ]
  },
  {
   "cell_type": "code",
   "execution_count": 69,
   "metadata": {},
   "outputs": [],
   "source": [
    "# dfLego.to_csv ('lego_cleaned_set.csv', index = None, header=True)"
   ]
  },
  {
   "cell_type": "code",
   "execution_count": null,
   "metadata": {},
   "outputs": [],
   "source": []
  }
 ],
 "metadata": {
  "kernelspec": {
   "display_name": "Python 3",
   "language": "python",
   "name": "python3"
  },
  "language_info": {
   "codemirror_mode": {
    "name": "ipython",
    "version": 3
   },
   "file_extension": ".py",
   "mimetype": "text/x-python",
   "name": "python",
   "nbconvert_exporter": "python",
   "pygments_lexer": "ipython3",
   "version": "3.7.4"
  }
 },
 "nbformat": 4,
 "nbformat_minor": 2
}
