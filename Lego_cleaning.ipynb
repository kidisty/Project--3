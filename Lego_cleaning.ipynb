{
 "cells": [
  {
   "cell_type": "markdown",
   "metadata": {},
   "source": [
    "# Setting up"
   ]
  },
  {
   "cell_type": "code",
   "execution_count": 1,
   "metadata": {},
   "outputs": [],
   "source": [
    "# Prepare dependencies\n",
    "import numpy as np\n",
    "import scipy.stats as stats\n",
    "import pandas as pd\n",
    "import seaborn as sns\n",
    "\n",
    "import matplotlib\n",
    "import matplotlib.pyplot as plt\n",
    "\n",
    "%config InlineBackend.figure_format = 'retina'\n",
    "%matplotlib inline\n",
    "\n",
    "plt.style.use('seaborn')"
   ]
  },
  {
   "cell_type": "markdown",
   "metadata": {},
   "source": [
    "# Preparing datasets"
   ]
  },
  {
   "cell_type": "code",
   "execution_count": 2,
   "metadata": {
    "scrolled": true
   },
   "outputs": [
    {
     "data": {
      "text/html": [
       "<div>\n",
       "<style scoped>\n",
       "    .dataframe tbody tr th:only-of-type {\n",
       "        vertical-align: middle;\n",
       "    }\n",
       "\n",
       "    .dataframe tbody tr th {\n",
       "        vertical-align: top;\n",
       "    }\n",
       "\n",
       "    .dataframe thead th {\n",
       "        text-align: right;\n",
       "    }\n",
       "</style>\n",
       "<table border=\"1\" class=\"dataframe\">\n",
       "  <thead>\n",
       "    <tr style=\"text-align: right;\">\n",
       "      <th></th>\n",
       "      <th>SetID</th>\n",
       "      <th>Number</th>\n",
       "      <th>Variant</th>\n",
       "      <th>Theme</th>\n",
       "      <th>Subtheme</th>\n",
       "      <th>Year</th>\n",
       "      <th>Name</th>\n",
       "      <th>Pieces</th>\n",
       "      <th>Price</th>\n",
       "      <th>ImageURL</th>\n",
       "      <th>OwnedBy</th>\n",
       "      <th>WantedBy</th>\n",
       "      <th>Rating</th>\n",
       "    </tr>\n",
       "  </thead>\n",
       "  <tbody>\n",
       "    <tr>\n",
       "      <td>0</td>\n",
       "      <td>22812</td>\n",
       "      <td>30224</td>\n",
       "      <td>1</td>\n",
       "      <td>City</td>\n",
       "      <td>General</td>\n",
       "      <td>2013</td>\n",
       "      <td>Ride-On Lawn Mower</td>\n",
       "      <td>42.0</td>\n",
       "      <td>NaN</td>\n",
       "      <td>https://images.brickset.com/sets/images/30224-...</td>\n",
       "      <td>1950</td>\n",
       "      <td>1746</td>\n",
       "      <td>4.0</td>\n",
       "    </tr>\n",
       "    <tr>\n",
       "      <td>1</td>\n",
       "      <td>22830</td>\n",
       "      <td>21104</td>\n",
       "      <td>1</td>\n",
       "      <td>Ideas</td>\n",
       "      <td>NASA</td>\n",
       "      <td>2014</td>\n",
       "      <td>NASA Mars Science Laboratory Curiosity Rover</td>\n",
       "      <td>295.0</td>\n",
       "      <td>29.99</td>\n",
       "      <td>https://images.brickset.com/sets/images/21104-...</td>\n",
       "      <td>1983</td>\n",
       "      <td>2912</td>\n",
       "      <td>4.0</td>\n",
       "    </tr>\n",
       "    <tr>\n",
       "      <td>2</td>\n",
       "      <td>22888</td>\n",
       "      <td>71002</td>\n",
       "      <td>12</td>\n",
       "      <td>Collectable Minifigures</td>\n",
       "      <td>Series 11</td>\n",
       "      <td>2013</td>\n",
       "      <td>Saxophone Player</td>\n",
       "      <td>6.0</td>\n",
       "      <td>2.99</td>\n",
       "      <td>https://images.brickset.com/sets/images/71002-...</td>\n",
       "      <td>5426</td>\n",
       "      <td>2201</td>\n",
       "      <td>4.0</td>\n",
       "    </tr>\n",
       "  </tbody>\n",
       "</table>\n",
       "</div>"
      ],
      "text/plain": [
       "   SetID Number  Variant                    Theme   Subtheme  Year  \\\n",
       "0  22812  30224        1                     City    General  2013   \n",
       "1  22830  21104        1                    Ideas       NASA  2014   \n",
       "2  22888  71002       12  Collectable Minifigures  Series 11  2013   \n",
       "\n",
       "                                           Name  Pieces  Price  \\\n",
       "0                            Ride-On Lawn Mower    42.0    NaN   \n",
       "1  NASA Mars Science Laboratory Curiosity Rover   295.0  29.99   \n",
       "2                              Saxophone Player     6.0   2.99   \n",
       "\n",
       "                                            ImageURL  OwnedBy  WantedBy  \\\n",
       "0  https://images.brickset.com/sets/images/30224-...     1950      1746   \n",
       "1  https://images.brickset.com/sets/images/21104-...     1983      2912   \n",
       "2  https://images.brickset.com/sets/images/71002-...     5426      2201   \n",
       "\n",
       "   Rating  \n",
       "0     4.0  \n",
       "1     4.0  \n",
       "2     4.0  "
      ]
     },
     "execution_count": 2,
     "metadata": {},
     "output_type": "execute_result"
    }
   ],
   "source": [
    "legoData = pd.read_csv('Data/lego_data.csv')\n",
    "legoData.head(3)"
   ]
  },
  {
   "cell_type": "code",
   "execution_count": 3,
   "metadata": {},
   "outputs": [
    {
     "data": {
      "text/html": [
       "<div>\n",
       "<style scoped>\n",
       "    .dataframe tbody tr th:only-of-type {\n",
       "        vertical-align: middle;\n",
       "    }\n",
       "\n",
       "    .dataframe tbody tr th {\n",
       "        vertical-align: top;\n",
       "    }\n",
       "\n",
       "    .dataframe thead th {\n",
       "        text-align: right;\n",
       "    }\n",
       "</style>\n",
       "<table border=\"1\" class=\"dataframe\">\n",
       "  <thead>\n",
       "    <tr style=\"text-align: right;\">\n",
       "      <th></th>\n",
       "      <th>num_reviews</th>\n",
       "      <th>piece_count</th>\n",
       "      <th>play_star_rating</th>\n",
       "      <th>prod_desc</th>\n",
       "      <th>prod_id</th>\n",
       "      <th>review_difficulty</th>\n",
       "      <th>set_name</th>\n",
       "      <th>star_rating</th>\n",
       "      <th>theme_name</th>\n",
       "      <th>val_star_rating</th>\n",
       "      <th>country</th>\n",
       "    </tr>\n",
       "  </thead>\n",
       "  <tbody>\n",
       "    <tr>\n",
       "      <td>0</td>\n",
       "      <td>2.0</td>\n",
       "      <td>277</td>\n",
       "      <td>4.0</td>\n",
       "      <td>Catapult into action and take back the eggs fr...</td>\n",
       "      <td>75823</td>\n",
       "      <td>Average</td>\n",
       "      <td>Bird Island Egg Heist</td>\n",
       "      <td>4.5</td>\n",
       "      <td>Angry Birds™</td>\n",
       "      <td>4.0</td>\n",
       "      <td>US</td>\n",
       "    </tr>\n",
       "    <tr>\n",
       "      <td>1</td>\n",
       "      <td>2.0</td>\n",
       "      <td>168</td>\n",
       "      <td>4.0</td>\n",
       "      <td>Launch a flying attack and rescue the eggs fro...</td>\n",
       "      <td>75822</td>\n",
       "      <td>Easy</td>\n",
       "      <td>Piggy Plane Attack</td>\n",
       "      <td>5.0</td>\n",
       "      <td>Angry Birds™</td>\n",
       "      <td>4.0</td>\n",
       "      <td>US</td>\n",
       "    </tr>\n",
       "    <tr>\n",
       "      <td>2</td>\n",
       "      <td>11.0</td>\n",
       "      <td>74</td>\n",
       "      <td>4.3</td>\n",
       "      <td>Chase the piggy with lightning-fast Chuck and ...</td>\n",
       "      <td>75821</td>\n",
       "      <td>Easy</td>\n",
       "      <td>Piggy Car Escape</td>\n",
       "      <td>4.3</td>\n",
       "      <td>Angry Birds™</td>\n",
       "      <td>4.1</td>\n",
       "      <td>US</td>\n",
       "    </tr>\n",
       "  </tbody>\n",
       "</table>\n",
       "</div>"
      ],
      "text/plain": [
       "   num_reviews  piece_count  play_star_rating  \\\n",
       "0          2.0          277               4.0   \n",
       "1          2.0          168               4.0   \n",
       "2         11.0           74               4.3   \n",
       "\n",
       "                                           prod_desc  prod_id  \\\n",
       "0  Catapult into action and take back the eggs fr...    75823   \n",
       "1  Launch a flying attack and rescue the eggs fro...    75822   \n",
       "2  Chase the piggy with lightning-fast Chuck and ...    75821   \n",
       "\n",
       "  review_difficulty               set_name  star_rating    theme_name  \\\n",
       "0           Average  Bird Island Egg Heist          4.5  Angry Birds™   \n",
       "1              Easy     Piggy Plane Attack          5.0  Angry Birds™   \n",
       "2              Easy       Piggy Car Escape          4.3  Angry Birds™   \n",
       "\n",
       "   val_star_rating country  \n",
       "0              4.0      US  \n",
       "1              4.0      US  \n",
       "2              4.1      US  "
      ]
     },
     "execution_count": 3,
     "metadata": {},
     "output_type": "execute_result"
    }
   ],
   "source": [
    "legoData2 = pd.read_csv('Data/lego_sets.csv')\n",
    "legoData2.head(3)"
   ]
  },
  {
   "cell_type": "markdown",
   "metadata": {},
   "source": [
    "# Cleaning datasets"
   ]
  },
  {
   "cell_type": "markdown",
   "metadata": {},
   "source": [
    "## 1. LegoData"
   ]
  },
  {
   "cell_type": "code",
   "execution_count": 4,
   "metadata": {},
   "outputs": [],
   "source": [
    "# Make columns lowercase\n",
    "legoData.columns = [x.lower()for x in legoData.columns]\n",
    "\n",
    "# Revise column names\n",
    "legoData = legoData.rename(columns={'imageurl': 'image_url',\n",
    "                            'usprice': 'price',\n",
    "                            'ownedby': 'owned_by',\n",
    "                            'wantedby': 'wanted_by'})"
   ]
  },
  {
   "cell_type": "code",
   "execution_count": 5,
   "metadata": {},
   "outputs": [
    {
     "data": {
      "text/plain": [
       "setid          int64\n",
       "number        object\n",
       "variant        int64\n",
       "theme         object\n",
       "subtheme      object\n",
       "year           int64\n",
       "name          object\n",
       "pieces       float64\n",
       "price        float64\n",
       "image_url     object\n",
       "owned_by       int64\n",
       "wanted_by      int64\n",
       "rating       float64\n",
       "dtype: object"
      ]
     },
     "execution_count": 5,
     "metadata": {},
     "output_type": "execute_result"
    }
   ],
   "source": [
    "# Check variables' types\n",
    "legoData.dtypes"
   ]
  },
  {
   "cell_type": "code",
   "execution_count": 6,
   "metadata": {},
   "outputs": [],
   "source": [
    "# Change type of 'setid', 'variant', 'year'\n",
    "legoData['setid'] = legoData['setid'].astype(str)\n",
    "legoData['variant'] = legoData['variant'].astype(str)\n",
    "legoData['year'] = legoData['year'].astype(str)"
   ]
  },
  {
   "cell_type": "code",
   "execution_count": 7,
   "metadata": {
    "scrolled": false
   },
   "outputs": [
    {
     "data": {
      "text/plain": [
       "setid           0\n",
       "number          0\n",
       "variant         0\n",
       "theme           0\n",
       "subtheme     3864\n",
       "year            0\n",
       "name            0\n",
       "pieces       1076\n",
       "price        4916\n",
       "image_url       0\n",
       "owned_by        0\n",
       "wanted_by       0\n",
       "rating       5731\n",
       "dtype: int64"
      ]
     },
     "execution_count": 7,
     "metadata": {},
     "output_type": "execute_result"
    }
   ],
   "source": [
    "# Check NaNs\n",
    "legoData.isnull().sum()"
   ]
  },
  {
   "cell_type": "code",
   "execution_count": 8,
   "metadata": {},
   "outputs": [],
   "source": [
    "# Replace NaNs in 'subtheme' with 'Not Available'\n",
    "legoData['subtheme'] = legoData['subtheme'].fillna('Not Available')\n",
    "\n",
    "# Remove NaNs in 'pieces'\n",
    "legoData = legoData.dropna(subset=['pieces'])\n",
    "\n",
    "# Remove NaNs in 'rating'\n",
    "legoData = legoData.dropna(subset=['rating'])\n",
    "\n",
    "# Replace NaNs in 'price' with 'pieces' * 0.08\n",
    "# 0.08 is a rough-guess for purchasing a brick based on Lego website\n",
    "legoData['price'] = legoData.apply(lambda row: row['pieces'] * 0.08 if np.isnan(row['price']) else row['price'],\n",
    "                                   axis=1)"
   ]
  },
  {
   "cell_type": "code",
   "execution_count": 9,
   "metadata": {},
   "outputs": [],
   "source": [
    "# Revise 'number' column \n",
    "legoData['number'] = legoData['number'] + '-' + legoData['variant']"
   ]
  },
  {
   "cell_type": "code",
   "execution_count": 10,
   "metadata": {},
   "outputs": [],
   "source": [
    "# Remove 'variant' column\n",
    "legoData = legoData.drop(['variant'], axis=1)"
   ]
  },
  {
   "cell_type": "markdown",
   "metadata": {},
   "source": [
    "## 2. LegoData2"
   ]
  },
  {
   "cell_type": "code",
   "execution_count": 11,
   "metadata": {},
   "outputs": [
    {
     "data": {
      "text/plain": [
       "array(['US', 'AU', 'AT', 'BE', 'CA', 'CH', 'CZ', 'DE', 'DN', 'ES', 'FI',\n",
       "       'FR', 'GB', 'IE', 'IT', 'LU', 'NO', 'NL', 'NZ', 'PL', 'PT'],\n",
       "      dtype=object)"
      ]
     },
     "execution_count": 11,
     "metadata": {},
     "output_type": "execute_result"
    }
   ],
   "source": [
    "# Check unique info in 'country'\n",
    "legoData2['country'].unique()"
   ]
  },
  {
   "cell_type": "code",
   "execution_count": 12,
   "metadata": {},
   "outputs": [],
   "source": [
    "# Keep US data\n",
    "legoData2 = legoData2.loc[legoData2['country'] == 'US']"
   ]
  },
  {
   "cell_type": "code",
   "execution_count": 13,
   "metadata": {},
   "outputs": [
    {
     "data": {
      "text/plain": [
       "num_reviews          float64\n",
       "piece_count            int64\n",
       "play_star_rating     float64\n",
       "prod_desc             object\n",
       "prod_id                int64\n",
       "review_difficulty     object\n",
       "set_name              object\n",
       "star_rating          float64\n",
       "theme_name            object\n",
       "val_star_rating      float64\n",
       "country               object\n",
       "dtype: object"
      ]
     },
     "execution_count": 13,
     "metadata": {},
     "output_type": "execute_result"
    }
   ],
   "source": [
    "# Check variables' types\n",
    "legoData2.dtypes"
   ]
  },
  {
   "cell_type": "code",
   "execution_count": 14,
   "metadata": {
    "scrolled": true
   },
   "outputs": [
    {
     "data": {
      "text/plain": [
       "num_reviews           98\n",
       "piece_count            0\n",
       "play_star_rating     107\n",
       "prod_desc             20\n",
       "prod_id                0\n",
       "review_difficulty    124\n",
       "set_name               0\n",
       "star_rating           98\n",
       "theme_name             0\n",
       "val_star_rating      108\n",
       "country                0\n",
       "dtype: int64"
      ]
     },
     "execution_count": 14,
     "metadata": {},
     "output_type": "execute_result"
    }
   ],
   "source": [
    "# Check NaNs\n",
    "legoData2.isnull().sum()"
   ]
  },
  {
   "cell_type": "code",
   "execution_count": 15,
   "metadata": {},
   "outputs": [],
   "source": [
    "# Remove NaNs in 'num_reviews'\n",
    "legoData2 = legoData2.dropna(subset=['num_reviews'])\n",
    "\n",
    "# Replace NaN in 'review_difficulty', 'prod_desc' with 'Not Available'\n",
    "legoData2['review_difficulty'] = legoData2['review_difficulty'].fillna('Not Available')\n",
    "legoData2['prod_desc'] = legoData2['prod_desc'].fillna('Not Available')"
   ]
  },
  {
   "cell_type": "code",
   "execution_count": 18,
   "metadata": {},
   "outputs": [],
   "source": [
    "# Remove 'play_star_rating', 'val_star_rating', 'country'\n",
    "legoData2 = legoData2.drop(['play_star_rating', 'val_star_rating', 'country'], axis=1)"
   ]
  },
  {
   "cell_type": "markdown",
   "metadata": {},
   "source": [
    "## 3. Merged datasets (don't execute)"
   ]
  },
  {
   "cell_type": "code",
   "execution_count": null,
   "metadata": {},
   "outputs": [],
   "source": [
    "# dfLego = pd.merge(legoData, \n",
    "#                   legoData2[['num_reviews', 'prod_desc', 'review_difficulty']],\n",
    "#                   left_on='..',\n",
    "#                   right_on='..',\n",
    "#                   how='left')"
   ]
  },
  {
   "cell_type": "code",
   "execution_count": null,
   "metadata": {},
   "outputs": [],
   "source": [
    "# # Remove duplicated columns ('piece_count', 'prod_id', 'theme_name')\n",
    "# dfLego = dfLego.drop(['piece_count', 'prod_id', 'theme_name'], axis=1)\n",
    "\n",
    "# # Remove 'country' column\n",
    "# dfLego = dfLego.drop(['country'], axis=1)"
   ]
  },
  {
   "cell_type": "code",
   "execution_count": null,
   "metadata": {},
   "outputs": [],
   "source": [
    "# # Remove NaNs\n",
    "# dfLego = dfLego.dropna()"
   ]
  },
  {
   "cell_type": "code",
   "execution_count": null,
   "metadata": {},
   "outputs": [],
   "source": [
    "# # Find deplicates\n",
    "# dfLego.duplicated('setid')"
   ]
  },
  {
   "cell_type": "code",
   "execution_count": null,
   "metadata": {},
   "outputs": [],
   "source": [
    "# # Remove duplicates\n",
    "# dfLego = dfLego.drop_duplicates(['setid'])"
   ]
  },
  {
   "cell_type": "code",
   "execution_count": null,
   "metadata": {},
   "outputs": [],
   "source": [
    "# # Change type of 'variant'\n",
    "# dfLego['variant'] = dfLego['variant'].astype(str)"
   ]
  },
  {
   "cell_type": "code",
   "execution_count": null,
   "metadata": {},
   "outputs": [],
   "source": [
    "# # Revise 'number' column\n",
    "# dfLego['number'] = dfLego['number'] + '-' + dfLego['variant']"
   ]
  },
  {
   "cell_type": "markdown",
   "metadata": {},
   "source": [
    "# Exporting dataframe to a csv"
   ]
  },
  {
   "cell_type": "code",
   "execution_count": null,
   "metadata": {},
   "outputs": [],
   "source": [
    "legoData.to_csv('Data/lego_clean_data_v1.csv', index=None, header=True)"
   ]
  },
  {
   "cell_type": "code",
   "execution_count": 20,
   "metadata": {},
   "outputs": [],
   "source": [
    "legoData2.to_csv('Data/lego_clean_data_v2.csv', index=None, header=True)"
   ]
  },
  {
   "cell_type": "code",
   "execution_count": null,
   "metadata": {},
   "outputs": [],
   "source": []
  }
 ],
 "metadata": {
  "kernelspec": {
   "display_name": "Python 3",
   "language": "python",
   "name": "python3"
  },
  "language_info": {
   "codemirror_mode": {
    "name": "ipython",
    "version": 3
   },
   "file_extension": ".py",
   "mimetype": "text/x-python",
   "name": "python",
   "nbconvert_exporter": "python",
   "pygments_lexer": "ipython3",
   "version": "3.7.4"
  }
 },
 "nbformat": 4,
 "nbformat_minor": 2
}
