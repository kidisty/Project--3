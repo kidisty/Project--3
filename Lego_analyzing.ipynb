{
 "cells": [
  {
   "cell_type": "markdown",
   "metadata": {},
   "source": [
    "# Setting up"
   ]
  },
  {
   "cell_type": "code",
   "execution_count": 1,
   "metadata": {},
   "outputs": [],
   "source": [
    "# Prepare dependencies\n",
    "import numpy as np\n",
    "import scipy.stats as stats\n",
    "import pandas as pd\n",
    "import seaborn as sns\n",
    "\n",
    "import matplotlib\n",
    "import matplotlib.pyplot as plt\n",
    "\n",
    "%config InlineBackend.figure_format = 'retina'\n",
    "%matplotlib inline\n",
    "\n",
    "plt.style.use('seaborn')"
   ]
  },
  {
   "cell_type": "code",
   "execution_count": 2,
   "metadata": {},
   "outputs": [
    {
     "data": {
      "text/html": [
       "<div>\n",
       "<style scoped>\n",
       "    .dataframe tbody tr th:only-of-type {\n",
       "        vertical-align: middle;\n",
       "    }\n",
       "\n",
       "    .dataframe tbody tr th {\n",
       "        vertical-align: top;\n",
       "    }\n",
       "\n",
       "    .dataframe thead th {\n",
       "        text-align: right;\n",
       "    }\n",
       "</style>\n",
       "<table border=\"1\" class=\"dataframe\">\n",
       "  <thead>\n",
       "    <tr style=\"text-align: right;\">\n",
       "      <th></th>\n",
       "      <th>setid</th>\n",
       "      <th>number</th>\n",
       "      <th>theme</th>\n",
       "      <th>subtheme</th>\n",
       "      <th>year</th>\n",
       "      <th>name</th>\n",
       "      <th>pieces</th>\n",
       "      <th>price</th>\n",
       "      <th>image_url</th>\n",
       "      <th>owned_by</th>\n",
       "      <th>wanted_by</th>\n",
       "      <th>rating</th>\n",
       "    </tr>\n",
       "  </thead>\n",
       "  <tbody>\n",
       "    <tr>\n",
       "      <td>0</td>\n",
       "      <td>22812</td>\n",
       "      <td>30224-1</td>\n",
       "      <td>City</td>\n",
       "      <td>General</td>\n",
       "      <td>2013</td>\n",
       "      <td>Ride-On Lawn Mower</td>\n",
       "      <td>42.0</td>\n",
       "      <td>3.36</td>\n",
       "      <td>https://images.brickset.com/sets/images/30224-...</td>\n",
       "      <td>1950</td>\n",
       "      <td>1746</td>\n",
       "      <td>4.0</td>\n",
       "    </tr>\n",
       "    <tr>\n",
       "      <td>1</td>\n",
       "      <td>22830</td>\n",
       "      <td>21104-1</td>\n",
       "      <td>Ideas</td>\n",
       "      <td>NASA</td>\n",
       "      <td>2014</td>\n",
       "      <td>NASA Mars Science Laboratory Curiosity Rover</td>\n",
       "      <td>295.0</td>\n",
       "      <td>29.99</td>\n",
       "      <td>https://images.brickset.com/sets/images/21104-...</td>\n",
       "      <td>1983</td>\n",
       "      <td>2912</td>\n",
       "      <td>4.0</td>\n",
       "    </tr>\n",
       "    <tr>\n",
       "      <td>2</td>\n",
       "      <td>22888</td>\n",
       "      <td>71002-12</td>\n",
       "      <td>Collectable Minifigures</td>\n",
       "      <td>Series 11</td>\n",
       "      <td>2013</td>\n",
       "      <td>Saxophone Player</td>\n",
       "      <td>6.0</td>\n",
       "      <td>2.99</td>\n",
       "      <td>https://images.brickset.com/sets/images/71002-...</td>\n",
       "      <td>5426</td>\n",
       "      <td>2201</td>\n",
       "      <td>4.0</td>\n",
       "    </tr>\n",
       "  </tbody>\n",
       "</table>\n",
       "</div>"
      ],
      "text/plain": [
       "   setid    number                    theme   subtheme  year  \\\n",
       "0  22812   30224-1                     City    General  2013   \n",
       "1  22830   21104-1                    Ideas       NASA  2014   \n",
       "2  22888  71002-12  Collectable Minifigures  Series 11  2013   \n",
       "\n",
       "                                           name  pieces  price  \\\n",
       "0                            Ride-On Lawn Mower    42.0   3.36   \n",
       "1  NASA Mars Science Laboratory Curiosity Rover   295.0  29.99   \n",
       "2                              Saxophone Player     6.0   2.99   \n",
       "\n",
       "                                           image_url  owned_by  wanted_by  \\\n",
       "0  https://images.brickset.com/sets/images/30224-...      1950       1746   \n",
       "1  https://images.brickset.com/sets/images/21104-...      1983       2912   \n",
       "2  https://images.brickset.com/sets/images/71002-...      5426       2201   \n",
       "\n",
       "   rating  \n",
       "0     4.0  \n",
       "1     4.0  \n",
       "2     4.0  "
      ]
     },
     "execution_count": 2,
     "metadata": {},
     "output_type": "execute_result"
    }
   ],
   "source": [
    "# Import datasets\n",
    "dfLego = pd.read_csv('Data/lego_clean_data_v1.csv')\n",
    "dfLego.head(3)"
   ]
  },
  {
   "cell_type": "code",
   "execution_count": 3,
   "metadata": {},
   "outputs": [
    {
     "data": {
      "text/html": [
       "<div>\n",
       "<style scoped>\n",
       "    .dataframe tbody tr th:only-of-type {\n",
       "        vertical-align: middle;\n",
       "    }\n",
       "\n",
       "    .dataframe tbody tr th {\n",
       "        vertical-align: top;\n",
       "    }\n",
       "\n",
       "    .dataframe thead th {\n",
       "        text-align: right;\n",
       "    }\n",
       "</style>\n",
       "<table border=\"1\" class=\"dataframe\">\n",
       "  <thead>\n",
       "    <tr style=\"text-align: right;\">\n",
       "      <th></th>\n",
       "      <th>num_reviews</th>\n",
       "      <th>piece_count</th>\n",
       "      <th>prod_desc</th>\n",
       "      <th>prod_id</th>\n",
       "      <th>review_difficulty</th>\n",
       "      <th>set_name</th>\n",
       "      <th>star_rating</th>\n",
       "      <th>theme_name</th>\n",
       "    </tr>\n",
       "  </thead>\n",
       "  <tbody>\n",
       "    <tr>\n",
       "      <td>0</td>\n",
       "      <td>2.0</td>\n",
       "      <td>277</td>\n",
       "      <td>Catapult into action and take back the eggs fr...</td>\n",
       "      <td>75823</td>\n",
       "      <td>Average</td>\n",
       "      <td>Bird Island Egg Heist</td>\n",
       "      <td>4.5</td>\n",
       "      <td>Angry Birds™</td>\n",
       "    </tr>\n",
       "    <tr>\n",
       "      <td>1</td>\n",
       "      <td>2.0</td>\n",
       "      <td>168</td>\n",
       "      <td>Launch a flying attack and rescue the eggs fro...</td>\n",
       "      <td>75822</td>\n",
       "      <td>Easy</td>\n",
       "      <td>Piggy Plane Attack</td>\n",
       "      <td>5.0</td>\n",
       "      <td>Angry Birds™</td>\n",
       "    </tr>\n",
       "    <tr>\n",
       "      <td>2</td>\n",
       "      <td>11.0</td>\n",
       "      <td>74</td>\n",
       "      <td>Chase the piggy with lightning-fast Chuck and ...</td>\n",
       "      <td>75821</td>\n",
       "      <td>Easy</td>\n",
       "      <td>Piggy Car Escape</td>\n",
       "      <td>4.3</td>\n",
       "      <td>Angry Birds™</td>\n",
       "    </tr>\n",
       "    <tr>\n",
       "      <td>3</td>\n",
       "      <td>23.0</td>\n",
       "      <td>1032</td>\n",
       "      <td>Explore the architecture of the United States ...</td>\n",
       "      <td>21030</td>\n",
       "      <td>Average</td>\n",
       "      <td>United States Capitol Building</td>\n",
       "      <td>4.6</td>\n",
       "      <td>Architecture</td>\n",
       "    </tr>\n",
       "    <tr>\n",
       "      <td>4</td>\n",
       "      <td>14.0</td>\n",
       "      <td>744</td>\n",
       "      <td>Recreate the Solomon R. Guggenheim Museum® wit...</td>\n",
       "      <td>21035</td>\n",
       "      <td>Challenging</td>\n",
       "      <td>Solomon R. Guggenheim Museum®</td>\n",
       "      <td>4.6</td>\n",
       "      <td>Architecture</td>\n",
       "    </tr>\n",
       "  </tbody>\n",
       "</table>\n",
       "</div>"
      ],
      "text/plain": [
       "   num_reviews  piece_count  \\\n",
       "0          2.0          277   \n",
       "1          2.0          168   \n",
       "2         11.0           74   \n",
       "3         23.0         1032   \n",
       "4         14.0          744   \n",
       "\n",
       "                                           prod_desc  prod_id  \\\n",
       "0  Catapult into action and take back the eggs fr...    75823   \n",
       "1  Launch a flying attack and rescue the eggs fro...    75822   \n",
       "2  Chase the piggy with lightning-fast Chuck and ...    75821   \n",
       "3  Explore the architecture of the United States ...    21030   \n",
       "4  Recreate the Solomon R. Guggenheim Museum® wit...    21035   \n",
       "\n",
       "  review_difficulty                        set_name  star_rating    theme_name  \n",
       "0           Average           Bird Island Egg Heist          4.5  Angry Birds™  \n",
       "1              Easy              Piggy Plane Attack          5.0  Angry Birds™  \n",
       "2              Easy                Piggy Car Escape          4.3  Angry Birds™  \n",
       "3           Average  United States Capitol Building          4.6  Architecture  \n",
       "4       Challenging   Solomon R. Guggenheim Museum®          4.6  Architecture  "
      ]
     },
     "execution_count": 3,
     "metadata": {},
     "output_type": "execute_result"
    }
   ],
   "source": [
    "dfLego2 = pd.read_csv('Data/lego_clean_data_v2.csv')\n",
    "dfLego2.head()"
   ]
  },
  {
   "cell_type": "markdown",
   "metadata": {},
   "source": [
    "# Peeking at the dataset"
   ]
  },
  {
   "cell_type": "code",
   "execution_count": 4,
   "metadata": {},
   "outputs": [
    {
     "name": "stdout",
     "output_type": "stream",
     "text": [
      "setid          int64\n",
      "number        object\n",
      "theme         object\n",
      "subtheme      object\n",
      "year           int64\n",
      "name          object\n",
      "pieces       float64\n",
      "price        float64\n",
      "image_url     object\n",
      "owned_by       int64\n",
      "wanted_by      int64\n",
      "rating       float64\n",
      "dtype: object\n",
      "==============================\n",
      "num_reviews          float64\n",
      "piece_count            int64\n",
      "prod_desc             object\n",
      "prod_id                int64\n",
      "review_difficulty     object\n",
      "set_name              object\n",
      "star_rating          float64\n",
      "theme_name            object\n",
      "dtype: object\n"
     ]
    }
   ],
   "source": [
    "# Check variables' types\n",
    "print(dfLego.dtypes)\n",
    "print('='*30)\n",
    "print(dfLego2.dtypes)"
   ]
  },
  {
   "cell_type": "code",
   "execution_count": 5,
   "metadata": {},
   "outputs": [],
   "source": [
    "# Change type of 'setid', 'year', 'pieces'\n",
    "dfLego['setid'] = dfLego['setid'].astype(str)\n",
    "dfLego['year'] = dfLego['year'].astype(str)\n",
    "dfLego['pieces'] = dfLego['pieces'].astype(int)\n",
    "\n",
    "dfLego2['num_reviews'] = dfLego2['num_reviews'].astype(int)"
   ]
  },
  {
   "cell_type": "code",
   "execution_count": 6,
   "metadata": {
    "scrolled": true
   },
   "outputs": [
    {
     "data": {
      "text/html": [
       "<div>\n",
       "<style scoped>\n",
       "    .dataframe tbody tr th:only-of-type {\n",
       "        vertical-align: middle;\n",
       "    }\n",
       "\n",
       "    .dataframe tbody tr th {\n",
       "        vertical-align: top;\n",
       "    }\n",
       "\n",
       "    .dataframe thead th {\n",
       "        text-align: right;\n",
       "    }\n",
       "</style>\n",
       "<table border=\"1\" class=\"dataframe\">\n",
       "  <thead>\n",
       "    <tr style=\"text-align: right;\">\n",
       "      <th></th>\n",
       "      <th>count</th>\n",
       "      <th>mean</th>\n",
       "      <th>std</th>\n",
       "      <th>min</th>\n",
       "      <th>25%</th>\n",
       "      <th>50%</th>\n",
       "      <th>75%</th>\n",
       "      <th>max</th>\n",
       "    </tr>\n",
       "  </thead>\n",
       "  <tbody>\n",
       "    <tr>\n",
       "      <td>pieces</td>\n",
       "      <td>7022.0</td>\n",
       "      <td>245.596696</td>\n",
       "      <td>422.958131</td>\n",
       "      <td>0.0</td>\n",
       "      <td>33.00</td>\n",
       "      <td>97.00</td>\n",
       "      <td>292.00</td>\n",
       "      <td>7541.00</td>\n",
       "    </tr>\n",
       "    <tr>\n",
       "      <td>price</td>\n",
       "      <td>7022.0</td>\n",
       "      <td>26.874006</td>\n",
       "      <td>40.309880</td>\n",
       "      <td>0.0</td>\n",
       "      <td>4.00</td>\n",
       "      <td>12.99</td>\n",
       "      <td>30.00</td>\n",
       "      <td>799.99</td>\n",
       "    </tr>\n",
       "    <tr>\n",
       "      <td>owned_by</td>\n",
       "      <td>7022.0</td>\n",
       "      <td>2608.271148</td>\n",
       "      <td>2548.412041</td>\n",
       "      <td>5.0</td>\n",
       "      <td>747.25</td>\n",
       "      <td>1776.50</td>\n",
       "      <td>3655.00</td>\n",
       "      <td>22256.00</td>\n",
       "    </tr>\n",
       "    <tr>\n",
       "      <td>wanted_by</td>\n",
       "      <td>7022.0</td>\n",
       "      <td>893.487610</td>\n",
       "      <td>909.318002</td>\n",
       "      <td>7.0</td>\n",
       "      <td>321.25</td>\n",
       "      <td>597.00</td>\n",
       "      <td>1188.75</td>\n",
       "      <td>11089.00</td>\n",
       "    </tr>\n",
       "    <tr>\n",
       "      <td>rating</td>\n",
       "      <td>7022.0</td>\n",
       "      <td>4.194375</td>\n",
       "      <td>0.696726</td>\n",
       "      <td>0.9</td>\n",
       "      <td>4.00</td>\n",
       "      <td>4.30</td>\n",
       "      <td>4.70</td>\n",
       "      <td>5.00</td>\n",
       "    </tr>\n",
       "  </tbody>\n",
       "</table>\n",
       "</div>"
      ],
      "text/plain": [
       "            count         mean          std  min     25%      50%      75%  \\\n",
       "pieces     7022.0   245.596696   422.958131  0.0   33.00    97.00   292.00   \n",
       "price      7022.0    26.874006    40.309880  0.0    4.00    12.99    30.00   \n",
       "owned_by   7022.0  2608.271148  2548.412041  5.0  747.25  1776.50  3655.00   \n",
       "wanted_by  7022.0   893.487610   909.318002  7.0  321.25   597.00  1188.75   \n",
       "rating     7022.0     4.194375     0.696726  0.9    4.00     4.30     4.70   \n",
       "\n",
       "                max  \n",
       "pieces      7541.00  \n",
       "price        799.99  \n",
       "owned_by   22256.00  \n",
       "wanted_by  11089.00  \n",
       "rating         5.00  "
      ]
     },
     "execution_count": 6,
     "metadata": {},
     "output_type": "execute_result"
    }
   ],
   "source": [
    "# Statistics summary\n",
    "dfLego.describe().T"
   ]
  },
  {
   "cell_type": "code",
   "execution_count": 7,
   "metadata": {},
   "outputs": [
    {
     "data": {
      "text/html": [
       "<div>\n",
       "<style scoped>\n",
       "    .dataframe tbody tr th:only-of-type {\n",
       "        vertical-align: middle;\n",
       "    }\n",
       "\n",
       "    .dataframe tbody tr th {\n",
       "        vertical-align: top;\n",
       "    }\n",
       "\n",
       "    .dataframe thead th {\n",
       "        text-align: right;\n",
       "    }\n",
       "</style>\n",
       "<table border=\"1\" class=\"dataframe\">\n",
       "  <thead>\n",
       "    <tr style=\"text-align: right;\">\n",
       "      <th></th>\n",
       "      <th>count</th>\n",
       "      <th>mean</th>\n",
       "      <th>std</th>\n",
       "      <th>min</th>\n",
       "      <th>25%</th>\n",
       "      <th>50%</th>\n",
       "      <th>75%</th>\n",
       "      <th>max</th>\n",
       "    </tr>\n",
       "  </thead>\n",
       "  <tbody>\n",
       "    <tr>\n",
       "      <td>num_reviews</td>\n",
       "      <td>719.0</td>\n",
       "      <td>14.564673</td>\n",
       "      <td>31.127752</td>\n",
       "      <td>1.0</td>\n",
       "      <td>2.0</td>\n",
       "      <td>6.0</td>\n",
       "      <td>12.00</td>\n",
       "      <td>367.0</td>\n",
       "    </tr>\n",
       "    <tr>\n",
       "      <td>piece_count</td>\n",
       "      <td>719.0</td>\n",
       "      <td>459.844228</td>\n",
       "      <td>761.064515</td>\n",
       "      <td>1.0</td>\n",
       "      <td>101.0</td>\n",
       "      <td>208.0</td>\n",
       "      <td>494.00</td>\n",
       "      <td>7541.0</td>\n",
       "    </tr>\n",
       "    <tr>\n",
       "      <td>prod_id</td>\n",
       "      <td>719.0</td>\n",
       "      <td>61881.186370</td>\n",
       "      <td>149994.028968</td>\n",
       "      <td>630.0</td>\n",
       "      <td>41094.5</td>\n",
       "      <td>45517.0</td>\n",
       "      <td>71223.50</td>\n",
       "      <td>2000431.0</td>\n",
       "    </tr>\n",
       "    <tr>\n",
       "      <td>star_rating</td>\n",
       "      <td>719.0</td>\n",
       "      <td>4.506120</td>\n",
       "      <td>0.512970</td>\n",
       "      <td>1.8</td>\n",
       "      <td>4.3</td>\n",
       "      <td>4.6</td>\n",
       "      <td>4.95</td>\n",
       "      <td>5.0</td>\n",
       "    </tr>\n",
       "  </tbody>\n",
       "</table>\n",
       "</div>"
      ],
      "text/plain": [
       "             count          mean            std    min      25%      50%  \\\n",
       "num_reviews  719.0     14.564673      31.127752    1.0      2.0      6.0   \n",
       "piece_count  719.0    459.844228     761.064515    1.0    101.0    208.0   \n",
       "prod_id      719.0  61881.186370  149994.028968  630.0  41094.5  45517.0   \n",
       "star_rating  719.0      4.506120       0.512970    1.8      4.3      4.6   \n",
       "\n",
       "                  75%        max  \n",
       "num_reviews     12.00      367.0  \n",
       "piece_count    494.00     7541.0  \n",
       "prod_id      71223.50  2000431.0  \n",
       "star_rating      4.95        5.0  "
      ]
     },
     "execution_count": 7,
     "metadata": {},
     "output_type": "execute_result"
    }
   ],
   "source": [
    "dfLego2.describe().T"
   ]
  },
  {
   "cell_type": "code",
   "execution_count": 8,
   "metadata": {},
   "outputs": [],
   "source": [
    "# Function for calculating total counts of A based on B\n",
    "def total_count(df, col, col2):\n",
    "    count = df.groupby(col)[col2].count()\n",
    "    dfNew = pd.DataFrame(count).reset_index()\n",
    "    return dfNew"
   ]
  },
  {
   "cell_type": "code",
   "execution_count": 9,
   "metadata": {},
   "outputs": [],
   "source": [
    "# Calculate total counts based on rating\n",
    "themeRatingCount = total_count(dfLego, 'theme', 'rating')\n",
    "\n",
    "# Rename the column\n",
    "themeRatingCount = themeRatingCount.rename(columns={'rating': 'total_count_rating'})"
   ]
  },
  {
   "cell_type": "code",
   "execution_count": 10,
   "metadata": {},
   "outputs": [],
   "source": [
    "# Function for merging 'total_rating_count_x' or 'total_price_count_y' into 'dfLego'\n",
    "def merge_df(df, df2, col):\n",
    "    return pd.merge(df, df2, how='left', on=col)"
   ]
  },
  {
   "cell_type": "code",
   "execution_count": 11,
   "metadata": {},
   "outputs": [],
   "source": [
    "# Merge dataframes\n",
    "dfLegoRating = merge_df(dfLego, themeRatingCount, 'theme')"
   ]
  },
  {
   "cell_type": "code",
   "execution_count": 12,
   "metadata": {},
   "outputs": [],
   "source": [
    "# Function for summary statistics for 'total_rating_count_x' or 'total_price_count_y'\n",
    "def summary_stats(df, col):\n",
    "    pd.set_option('display.float_format', lambda x: '%.3f' % x)\n",
    "    print(df[col].describe())\n",
    "    print('='*48)\n",
    "    print(df[col].quantile(np.arange(0.5, 1, 0.1)))"
   ]
  },
  {
   "cell_type": "code",
   "execution_count": 13,
   "metadata": {},
   "outputs": [
    {
     "name": "stdout",
     "output_type": "stream",
     "text": [
      "count   7022.000\n",
      "mean     250.625\n",
      "std      197.441\n",
      "min        1.000\n",
      "25%       66.000\n",
      "50%      253.000\n",
      "75%      446.000\n",
      "max      568.000\n",
      "Name: total_count_rating, dtype: float64\n",
      "================================================\n",
      "0.500   253.000\n",
      "0.600   290.000\n",
      "0.700   358.000\n",
      "0.800   466.000\n",
      "0.900   556.000\n",
      "Name: total_count_rating, dtype: float64\n"
     ]
    }
   ],
   "source": [
    "# Summary statistics\n",
    "summary_stats(dfLegoRating, 'total_count_rating')"
   ]
  },
  {
   "cell_type": "code",
   "execution_count": 14,
   "metadata": {},
   "outputs": [],
   "source": [
    "# Keep top 50% data\n",
    "threshold = 253\n",
    "dfLegoRatingTop50 = dfLegoRating.query('total_count_rating >= @threshold')"
   ]
  },
  {
   "cell_type": "markdown",
   "metadata": {},
   "source": [
    "# Building the recommendation engine"
   ]
  },
  {
   "cell_type": "markdown",
   "metadata": {},
   "source": [
    "## 1. k-Nearest Neighbors (kNN)"
   ]
  },
  {
   "cell_type": "code",
   "execution_count": 15,
   "metadata": {},
   "outputs": [],
   "source": [
    "# Prepare dependencies\n",
    "from scipy.sparse import csr_matrix\n",
    "from sklearn.neighbors import NearestNeighbors"
   ]
  },
  {
   "cell_type": "markdown",
   "metadata": {},
   "source": [
    "### (A) Theme"
   ]
  },
  {
   "cell_type": "code",
   "execution_count": 16,
   "metadata": {},
   "outputs": [],
   "source": [
    "# Create the pivot dataframe and fill NaNs with 0\n",
    "pivotRatingTheme = dfLegoRatingTop50.pivot(index='theme', columns='number', values='rating').fillna(0)\n",
    "\n",
    "# Transfrom pivot dataframe into a 2D matrix\n",
    "matrixRatingTheme = csr_matrix(pivotRatingTheme.values)\n"
   ]
  },
  {
   "cell_type": "code",
   "execution_count": 17,
   "metadata": {},
   "outputs": [
    {
     "data": {
      "text/plain": [
       "NearestNeighbors(algorithm='brute', leaf_size=30, metric='cosine',\n",
       "                 metric_params=None, n_jobs=None, n_neighbors=5, p=2,\n",
       "                 radius=1.0)"
      ]
     },
     "execution_count": 17,
     "metadata": {},
     "output_type": "execute_result"
    }
   ],
   "source": [
    "# Build and fit the kNN model\n",
    "themeKNN = NearestNeighbors(metric='cosine', algorithm='brute')\n",
    "themeKNN.fit(matrixRatingTheme)"
   ]
  },
  {
   "cell_type": "code",
   "execution_count": 18,
   "metadata": {},
   "outputs": [
    {
     "name": "stdout",
     "output_type": "stream",
     "text": [
      "Recommendations for Star Wars:\n",
      "\n",
      "1: Space, with distance of 1.0:\n",
      "2: Creator, with distance of 1.0:\n",
      "3: Technic, with distance of 1.0:\n",
      "4: Bionicle, with distance of 1.0:\n",
      "5: Collectable Minifigures, with distance of 1.0:\n"
     ]
    }
   ],
   "source": [
    "# Test the model and make some recommendations\n",
    "queryIndexName = np.random.choice(pivotRatingTheme.shape[0])\n",
    "distance, index = themeKNN.kneighbors(pivotRatingTheme.iloc[queryIndexName, :].values.reshape(1, -1), n_neighbors = 6)\n",
    "\n",
    "for i in range(0, len(distance.flatten())):\n",
    "    if i == 0:\n",
    "        print('Recommendations for {0}:\\n'.format(pivotRatingTheme.index[queryIndexName]))\n",
    "    else:\n",
    "        print('{0}: {1}, with distance of {2}:'.format(i, pivotRatingTheme.index[index.flatten()[i]], distance.flatten()[i]))\n",
    "    "
   ]
  },
  {
   "cell_type": "markdown",
   "metadata": {},
   "source": [
    "### kNN Question: I don't like the result above but I have no idea where I cam improve this"
   ]
  },
  {
   "cell_type": "code",
   "execution_count": null,
   "metadata": {},
   "outputs": [],
   "source": []
  },
  {
   "cell_type": "markdown",
   "metadata": {},
   "source": [
    "## 2. TF-IDF Vetorizer"
   ]
  },
  {
   "cell_type": "code",
   "execution_count": 19,
   "metadata": {},
   "outputs": [],
   "source": [
    "# Prepare dependencies\n",
    "from sklearn.feature_extraction.text import TfidfVectorizer\n",
    "from sklearn.metrics.pairwise import linear_kernel"
   ]
  },
  {
   "cell_type": "code",
   "execution_count": 20,
   "metadata": {},
   "outputs": [],
   "source": [
    "# Calculate TF-IDF score for each lego description, word-by-word\n",
    "# Create the matrix containing each word and its TF-IDF score with regard to each description\n",
    "tf = TfidfVectorizer(analyzer='word', ngram_range=(1, 2), min_df=0, stop_words='english')\n",
    "tfidfMatrix = tf.fit_transform(dfLego2['prod_desc'])"
   ]
  },
  {
   "cell_type": "code",
   "execution_count": 21,
   "metadata": {},
   "outputs": [],
   "source": [
    "# Calculate cosine similarity\n",
    "cosineSimilarity = linear_kernel(tfidfMatrix, tfidfMatrix)"
   ]
  },
  {
   "cell_type": "code",
   "execution_count": 23,
   "metadata": {},
   "outputs": [],
   "source": [
    "# Create the loop\n",
    "results = {}\n",
    "\n",
    "for idx, row in dfLego2.iterrows():\n",
    "    indices = cosineSimilarity[idx].argsort()[:-100:-1]\n",
    "    items = [(cosineSimilarity[idx][i], dfLego2['prod_id'][i]) for i in indices]\n",
    "\n",
    "    results[row['prod_id']] = items[1:]"
   ]
  },
  {
   "cell_type": "code",
   "execution_count": 26,
   "metadata": {},
   "outputs": [],
   "source": [
    "# Test the model and make recommendations\n",
    "def item(id):  \n",
    "    return dfLego2.loc[dfLego2['prod_id'] == id]['prod_desc'].tolist()[0].split(' - ')[0] \n",
    "\n",
    "\n",
    "def recommend(item_id, num):\n",
    "    print(\"Recommending \" + str(num) + \" products similar to \" + item(item_id) + \"...\")   \n",
    "    print(\"-------\")    \n",
    "    recs = results[item_id][:num]   \n",
    "    for rec in recs: \n",
    "        print(\"Recommended: \" + item(rec[1]) + \" (score:\" +      str(rec[0]) + \")\")"
   ]
  },
  {
   "cell_type": "code",
   "execution_count": 33,
   "metadata": {
    "scrolled": true
   },
   "outputs": [
    {
     "name": "stdout",
     "output_type": "stream",
     "text": [
      "Recommending 5 products similar to Chase the piggy with lightning-fast Chuck and rescue the eggs!...\n",
      "-------\n",
      "Recommended: Launch a flying attack and rescue the eggs from the Piggy Plane! (score:0.2800555018888261)\n",
      "Recommended: Catapult into action and take back the eggs from the Piggy Trike! (score:0.17621493998679572)\n",
      "Recommended: Scream around the circuit in the lightning-fast LEGO® Technic 24 Hours Race Car! (score:0.15732853487116075)\n",
      "Recommended: Chase the Pteranodon and rescue it from danger! (score:0.1354159564460105)\n",
      "Recommended: Speed to the rescue with Jay’s Lightning Jet! (score:0.1127751529169958)\n"
     ]
    }
   ],
   "source": [
    "recommend(item_id=75821, num=5)\n"
   ]
  },
  {
   "cell_type": "markdown",
   "metadata": {},
   "source": [
    "### TF-IDF Question: I'm not sure this is the right track. The result seems odd to me..."
   ]
  },
  {
   "cell_type": "code",
   "execution_count": null,
   "metadata": {},
   "outputs": [],
   "source": []
  }
 ],
 "metadata": {
  "kernelspec": {
   "display_name": "Python 3",
   "language": "python",
   "name": "python3"
  },
  "language_info": {
   "codemirror_mode": {
    "name": "ipython",
    "version": 3
   },
   "file_extension": ".py",
   "mimetype": "text/x-python",
   "name": "python",
   "nbconvert_exporter": "python",
   "pygments_lexer": "ipython3",
   "version": "3.7.4"
  }
 },
 "nbformat": 4,
 "nbformat_minor": 2
}
